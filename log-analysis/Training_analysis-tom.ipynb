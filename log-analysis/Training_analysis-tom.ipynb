{
 "cells": [
  {
   "cell_type": "markdown",
   "metadata": {},
   "source": [
    "# Training analysis for DeepRacer\n",
    "\n",
    "This notebook has been built based on the `DeepRacer Log Analysis.ipynb` provided by the AWS DeepRacer Team. It has been reorganised and expanded to provide new views on the training data without the helper code which was moved into utility `.py` files.\n",
    "\n",
    "## Usage\n",
    "\n",
    "I have expanded this notebook from to present how I'm using this information. It contains descriptions that you may find not that needed after initial reading. Since this file can change in the future, I recommend that you make its copy and reorganize it to your liking. This way you will not lose your changes and you'll be able to add things as you please.\n",
    "\n",
    "**This notebook isn't complete.** What I find interesting in the logs may not be what you will find interesting and useful. I recommend you get familiar with the tools and try hacking around to get the insights that suit your needs.\n",
    "\n",
    "## Contributions\n",
    "\n",
    "As usual, your ideas are very welcome and encouraged so if you have any suggestions either bring them to [the AWS DeepRacer Community](http://join.deepracing.io) or share as code contributions.\n",
    "\n",
    "## Training environments\n",
    "\n",
    "Depending on whether you're running your training through the console or using the local setup, and on which setup for local training you're using, your experience will vary. As much as I would like everything to be taylored to your configuration, there may be some problems that you may face. If so, please get in touch through [the AWS DeepRacer Community](http://join.deepracing.io).\n",
    "\n",
    "## Requirements\n",
    "\n",
    "Before you start using the notebook, you will need to install some dependencies. If you haven't yet done so, have a look at [The README.md file](/edit/README.md#running-the-notebooks) to find what you need to install.\n",
    "\n",
    "Apart from the install, you also have to configure your programmatic access to AWS. Have a look at the guides below, AWS resources will lead you by the hand:\n",
    "\n",
    "AWS CLI: https://docs.aws.amazon.com/cli/latest/userguide/cli-chap-configure.html\n",
    "\n",
    "Boto Configuration: https://boto3.amazonaws.com/v1/documentation/api/latest/guide/configuration.html\n",
    "\n",
    "## Credits\n",
    "\n",
    "I would like to thank [the AWS DeepRacer Community](http://join.deepracing.io) for all the feedback about the notebooks. If you'd like, follow [my blog](https://codelikeamother.uk) where I tend to write about my experiences with AWS DeepRacer.\n",
    "\n",
    "# Log Analysis\n",
    "\n",
    "Let's get to it.\n",
    "\n",
    "## Imports\n",
    "\n",
    "Run the imports block below:"
   ]
  },
  {
   "cell_type": "code",
   "execution_count": 1,
   "metadata": {},
   "outputs": [
    {
     "data": {
      "text/plain": [
       "'1.9.243'"
      ]
     },
     "execution_count": 1,
     "metadata": {},
     "output_type": "execute_result"
    }
   ],
   "source": [
    "import numpy as np\n",
    "import pandas as pd\n",
    "import matplotlib.pyplot as plt\n",
    "from datetime import datetime\n",
    "import ipywidgets as widgets\n",
    "%matplotlib inline\n",
    "\n",
    "#Shapely Library\n",
    "from shapely.geometry import Point, Polygon\n",
    "from shapely.geometry.polygon import LinearRing, LineString\n",
    "\n",
    "import track_utils as tu\n",
    "import log_analysis as la\n",
    "import cw_utils as cw\n",
    "import job_utils as ju\n",
    "\n",
    "# Make sure your boto version is >= '1.9.133'\n",
    "cw.boto3.__version__"
   ]
  },
  {
   "cell_type": "markdown",
   "metadata": {},
   "source": [
    "This block below has been prepared in case you would like to make some changes to the utility code that comes with this notebook. It will reload track_utlis.py, log_analysis.py and cw_utils.py without the need to reload the notebook. In normal usage of the notebook you will not need it."
   ]
  },
  {
   "cell_type": "code",
   "execution_count": 2,
   "metadata": {},
   "outputs": [
    {
     "data": {
      "text/plain": [
       "<module 'job_utils' from 'C:\\\\Users\\\\tfrancis\\\\myenv\\\\dr\\\\aws-deepracer-workshops\\\\log-analysis\\\\job_utils.py'>"
      ]
     },
     "execution_count": 2,
     "metadata": {},
     "output_type": "execute_result"
    }
   ],
   "source": [
    "# reload log_analysis and the rest of stuff here if needed\n",
    "# (handy for code updates in utils, doesn't break anything if no changes)\n",
    "import importlib\n",
    "importlib.reload(la)\n",
    "importlib.reload(cw)\n",
    "importlib.reload(tu)\n",
    "importlib.reload(ju)"
   ]
  },
  {
   "cell_type": "markdown",
   "metadata": {},
   "source": [
    "## Get the logs\n",
    "\n",
    "Depending on which way you are training your model, you will need a different way to load the data.\n",
    "\n",
    "**AWS DeepRacer Console**\n",
    "The logs are being stored in CloudWatch, in group `/aws/robomaker/SimulationJobs`. You will be using boto3 to download them based on the training ID (stream name prefix). If you wish to bulk export the logs from Amazon Cloudwatch to Amazon S3 :: https://docs.aws.amazon.com/AmazonCloudWatch/latest/logs/S3ExportTasks.html\n",
    "\n",
    "**DeepRacer for Dummies/ARCC local training**\n",
    "Those two setups come with a container that runs Jupyter Notebook (as you noticed if you're using one of them and reading this text). Logs are stored in `/logs/` and you just need to point at the latest file to see the current training. The logs are split for long running training if they exceed 500 MB. The log loading method has been extended to support that.\n",
    "\n",
    "**Chris Rhodes' repo**\n",
    "Chris repo doesn't come with logs storage out of the box. I would normally run `docker logs dr > /path/to/logfile` and then load the file.\n",
    "\n",
    "Below I have prepared a section for each case. In each case you can analyse the logs as the training is being run, just in case of the Console you may need to force downloading of the logs as the `cw.download_log` method has a protection against needless downloads.\n",
    "\n",
    "## AutoConfig Parameters\n",
    "\n",
    "You can now select autoConfig for parameters to select an available simulation from AWS and load the logs and parameters (Including hyperparameters)\n",
    "Only AWS DeepRacer Console is supported now, but others will follow"
   ]
  },
  {
   "cell_type": "code",
   "execution_count": 3,
   "metadata": {
    "scrolled": true
   },
   "outputs": [
    {
     "data": {
      "application/vnd.jupyter.widget-view+json": {
       "model_id": "85a896ca1dca4234b67b4e158af38e39",
       "version_major": 2,
       "version_minor": 0
      },
      "text/plain": [
       "Checkbox(value=True, description='AutoConfig Parameters')"
      ]
     },
     "metadata": {},
     "output_type": "display_data"
    }
   ],
   "source": [
    "autoParams = None\n",
    "listJobsConsoleWidget = widgets.Checkbox(\n",
    "    value=True,\n",
    "    description='AutoConfig Parameters',\n",
    "    disabled=False,\n",
    ")\n",
    "display(listJobsConsoleWidget)"
   ]
  },
  {
   "cell_type": "code",
   "execution_count": 4,
   "metadata": {},
   "outputs": [
    {
     "name": "stdout",
     "output_type": "stream",
     "text": [
      "Select RoboMaker Simulation Job ID and click on 'Load Simulation Job Summary' before continuing:\n"
     ]
    },
    {
     "data": {
      "application/vnd.jupyter.widget-view+json": {
       "model_id": "9a9025985be54867a00bfffc0baf8ae4",
       "version_major": 2,
       "version_minor": 0
      },
      "text/plain": [
       "Dropdown(layout=Layout(width='auto'), options=(('sim-q3rywj63v4lw - Type: training - Track: Canada_Training - …"
      ]
     },
     "metadata": {},
     "output_type": "display_data"
    },
    {
     "data": {
      "application/vnd.jupyter.widget-view+json": {
       "model_id": "017584fc2e59450b85ca4b1371e9c7a0",
       "version_major": 2,
       "version_minor": 0
      },
      "text/plain": [
       "Button(description='Load Simulation Job Summary', layout=Layout(width='auto'), style=ButtonStyle())"
      ]
     },
     "metadata": {},
     "output_type": "display_data"
    },
    {
     "data": {
      "application/vnd.jupyter.widget-view+json": {
       "model_id": "e1029aba197b497ba04d3c8fdb1d3ef5",
       "version_major": 2,
       "version_minor": 0
      },
      "text/plain": [
       "Output(layout=Layout(border='1px solid black', width='auto'))"
      ]
     },
     "metadata": {},
     "output_type": "display_data"
    }
   ],
   "source": [
    "if listJobsConsoleWidget.value == True:\n",
    "    ju.display_job_selection_widget()\n",
    "    autoParams = ju.get_auto_params()\n",
    "\n"
   ]
  },
  {
   "cell_type": "code",
   "execution_count": 5,
   "metadata": {},
   "outputs": [
    {
     "name": "stdout",
     "output_type": "stream",
     "text": [
      "Using sim-57dblvvpj1q0 from autoParams\n",
      "Downloading log file...\n",
      "Downloaded log file to logs/deepracer-sim-57dblvvpj1q0.log\n"
     ]
    }
   ],
   "source": [
    "# AWS DeepRacer Console\n",
    "if not autoParams:\n",
    "    stream_name = 'sim-sample' ## CHANGE This to your simulation application ID\n",
    "    fname = 'logs/deepracer-%s.log' %stream_name  # The log will be downloaded into the specified path\n",
    "    cw.download_log(fname, stream_prefix=stream_name)  # add force=True if you downloaded the file before but want to repeat\n",
    "\n",
    "else:\n",
    "    jobID = autoParams['selectedJobID']\n",
    "    print(\"Using {} from autoParams\".format(jobID))\n",
    "    fname = \"logs/deepracer-{}.log\".format(jobID)  # The log will be downloaded into the specified path\n",
    "    print(\"Downloading log file...\")\n",
    "    cw.download_log(fname, stream_prefix=jobID)  # add force=True if you downloaded the file before but want to repeat\n",
    "    print(\"Downloaded log file to {}\".format(fname))\n",
    "\n",
    "# DeepRacer for Dummies / ARCC repository - comment the above and uncomment\n",
    "# the lines below. They rely on a magic command to list log files\n",
    "# ordered by time and pick up the most recent one (index zero).\n",
    "# If you want an earlier file, change 0 to larger value.\n",
    "# !ls -t /workspace/venv/logs/*.log\n",
    "# fname = !ls -t /workspace/venv/logs/*.log\n",
    "# fname = fname[0]\n",
    "\n",
    "\n",
    "# Chris Rhodes' repository\n",
    "# Use a preferred way of saving the logs to a file , then set an fname value to load it\n",
    "# fname = /path/to/your/log/file"
   ]
  },
  {
   "cell_type": "markdown",
   "metadata": {},
   "source": [
    "## Load waypoints for the track you want to run analysis on\n",
    "\n",
    "The track waypoint files usually show up as new races start. Be sure to check for them in repository updates. You only need to load them in the block below.\n",
    "\n",
    "These files represent the coordinates of characteristic points of the track - the center line, inside border and outside border. Their main purpose is to visualise the track in images below. One thing that you may want to remember is that at the moment not all functions below work with all values of the coordinates. Especially some look awkward with bigger tracks or with negative coordinates. Usually there is an explanation on what to do to fix the view.\n",
    "\n",
    "The naming of the tracks is not super consistent. I'm also not sure all of them are available in the console or locally. You may want to know that:\n",
    "* London_Loop and Virtual_May19_Train_track - are the AWS DeepRacer Virtual League London Loop tracks\n",
    "* Tokyo - is the AWS DeepRacer Virtual League Kumo Torakku track\n",
    "* New_York - are the AWS DeepRacer Virtual League Empire City training and evaluation tracks\n",
    "* China - are the AWS Deepracer Virtual League Shanghai Sudu training and evaluation tracks\n",
    "* reinvent_base - is the re:Invent 2019 racing track\n",
    "\n",
    "There are also other tracks that you may want to explore. Each of them has its own properties that you might find useful for your model.\n",
    "\n",
    "Remeber that evaluation npy files are a community effort to visualise the tracks in the trainings, they aren't 100% accurate.\n",
    "\n",
    "Tracks Available:"
   ]
  },
  {
   "cell_type": "code",
   "execution_count": 6,
   "metadata": {},
   "outputs": [
    {
     "name": "stdout",
     "output_type": "stream",
     "text": [
      "AWS_track.npy\n",
      "Bowtie_track.npy\n",
      "Canada_Eval.npy\n",
      "Canada_Training.npy\n",
      "China_eval_track.npy\n",
      "China_track.npy\n",
      "H_track.npy\n",
      "London_Loop_Train.npy\n",
      "Mexico_track.npy\n",
      "Mexico_track_eval.npy\n",
      "New_York_Eval_Track.npy\n",
      "New_York_Track.npy\n",
      "Oval_track.npy\n",
      "Straight_track.npy\n",
      "Tokyo_Training_track.npy\n",
      "Virtual_May19_Train_track.npy\n",
      "reinvent_base.npy\n"
     ]
    }
   ],
   "source": [
    "!ls tracks/"
   ]
  },
  {
   "cell_type": "markdown",
   "metadata": {},
   "source": [
    "Take the name from results above and paste below to load the key elements of the track and view the outline of it.\n",
    "\n",
    "If you used auto parameters, there is no need to change this."
   ]
  },
  {
   "cell_type": "code",
   "execution_count": 7,
   "metadata": {},
   "outputs": [
    {
     "name": "stdout",
     "output_type": "stream",
     "text": [
      "Track: reinvent_base (Loaded from autoParams)\n",
      "Loaded 71 waypoints\n"
     ]
    },
    {
     "data": {
      "image/svg+xml": [
       "<svg xmlns=\"http://www.w3.org/2000/svg\" xmlns:xlink=\"http://www.w3.org/1999/xlink\" width=\"100.0\" height=\"100.0\" viewBox=\"0.13165101625431158 0.09529031240092306 7.739630843825427 5.0005055286139175\" preserveAspectRatio=\"xMinYMin meet\"><g transform=\"matrix(1,0,0,-1,0,5.191086153415764)\"><path fill-rule=\"evenodd\" fill=\"#ff3333\" stroke=\"#555555\" stroke-width=\"0.15479261687650855\" opacity=\"0.6\" d=\"M 2.9101200062595103,0.38230620783067915 L 3.320119934919921,0.38247723188186483 L 3.420119917520022,0.3825189450650809 L 3.630128223616876,0.3826065462298145 L 4.190119783540795,0.3828401365758443 L 4.50012807223775,0.382969450923794 L 4.550119720901156,0.38299030403542206 L 5.3201279295585735,0.3833114990261654 L 5.420127912158674,0.38335321220938146 L 5.780127849519036,0.38350337966895914 L 6.324972631375165,0.3956832604952143 L 6.496120858284972,0.4160202072156111 L 6.62472364224327,0.44473185107344176 L 6.815966218031551,0.521642101758542 L 7.017519684834686,0.6415111643040204 L 7.229499454034008,0.8217965373170768 L 7.354308823693938,0.9825323713128955 L 7.447931440559386,1.1453875219327774 L 7.584628865863982,1.8031173114342751 L 7.577929620223677,1.8535557187007277 L 7.571403728787527,1.90268894767995 L 7.350201669529235,2.492043640838347 L 7.258218658533806,2.610503855324811 L 6.843319429832621,2.9366420720078783 L 6.652076861387874,3.0135523418410606 L 6.077102317373509,3.0843225367722926 L 5.917114336078783,3.0829358686812904 L 5.717129359460375,3.081202533567537 L 5.667306448817149,3.080770702127258 L 5.197341753763893,3.076697364609938 L 5.047179687788711,3.0753958609364638 L 5.034886471281728,3.0759817113964028 L 4.97556588304942,3.082330184103404 L 4.723655995002148,3.1605758734283604 L 4.498355317486535,3.3624310927965775 L 4.3325507156607355,3.5658507056549404 L 4.240944136947374,3.6782394727455503 L 4.0138222049015155,3.9568870795046953 L 3.922215626188155,4.069275846595304 L 3.7888808345557994,4.232859434720925 L 3.4380291650003363,4.595552001126502 L 3.353319122878281,4.64793530145161 L 3.1961735515503995,4.727704914445076 L 3.055651529170767,4.776192024941823 L 2.840968530687481,4.80720241399628 L 2.84303014895641,4.80698759310109 L 2.4913683324088596,4.809142846799084 L 2.2404230806588203,4.8019019048214995 L 1.981215987743099,4.794422570158293 L 1.7305590426333723,4.787189947173157 L 1.1133976663098506,4.68342738185746 L 0.9132873376602105,4.575866464388443 L 0.4396815695265954,3.8869828266056468 L 0.4183040104700681,3.4707944950583007 L 0.5817439759375306,2.665552102434232 L 0.5930735980115257,2.6097328787804766 L 0.6242638438593316,2.4560635597666995 L 0.6437866949569175,2.3598776159940114 L 0.7253233176311822,1.9581598051701847 L 0.7467666116515489,1.8525121483482125 L 0.7963216533547308,1.6083624372691325 L 0.9415723136978997,1.058316414523293 L 0.962303954307788,1.006632340237715 L 1.0626459793805891,0.8300487672594938 L 1.095566151040184,0.7926169730979473 L 1.1657678278926826,0.712794342009927 L 1.3114141412298634,0.5840889274264379 L 1.3546711732192105,0.5599177517631669 L 2.040128500275279,0.3819433066166796 L 2.7501283767359923,0.38223947021751337 L 2.9101200062595103,0.38230620783067915 L 2.909906444083587,0.9840787499610828 L 2.749912415761146,0.9840310918882519 L 2.0399124787587044,0.9838196013153698 L 1.6445917267628223,1.0788141361524557 L 1.6322328186035158,1.0857186889648438 L 1.613667277893416,1.1068169893088786 L 1.5434438985939147,1.186620425727402 L 1.5296887207031251,1.2022521209716797 L 1.5185744153105296,1.2299234905909608 L 1.497822943058028,1.281588586929395 L 1.3902788553560892,1.7314629754755075 L 1.338638685255012,1.9753504435221483 L 1.3163469413409712,2.080630441068597 L 1.2314242341915527,2.4817054953489857 L 1.211040078964814,2.5779762860297337 L 1.178615724180754,2.7311108279154777 L 1.1667667487821711,2.787071460950787 L 0.9966111768378945,3.59068638968341 L 1.0248472113946108,3.7704349524329484 L 1.2783204962571983,4.088884910007067 L 1.314613037109375,4.11409423828125 L 1.7485951938134034,4.166053115531388 L 1.9992580924048617,4.173382658074824 L 2.258451665350191,4.180961642960754 L 2.509406720502155,4.1882997283477925 L 2.7808141160514976,4.192424015198027 L 2.7788712303071925,4.192614571024957 L 2.8843350219726562,4.182270812988281 L 2.994786471026911,4.144147305563019 L 3.028917153889106,4.123471202342913 L 3.09720703125,4.081221618652344 L 3.30923654574253,3.8419079701360612 L 3.442571258568735,3.6783243301144166 L 3.534177795123867,3.5659355126652286 L 3.7612995949291355,3.287287815055975 L 3.8529061314842683,3.1748989976067854 L 4.018710641305418,2.9714793128627117 L 4.399026282932134,2.6360679163260246 L 4.909864648480311,2.468324424054731 L 4.9691856595622115,2.46197790460427 L 5.018619835463795,2.4566891383955527 L 5.20260337467398,2.4551229239531156 L 5.6725712484683495,2.45900857506364 L 5.722402483931133,2.459420575130478 L 5.922388813205334,2.4610740436881477 L 6.082377876624694,2.462396818534284 L 6.431444702148438,2.436733856201172 L 6.6006591796875,2.3618621826171875 L 6.769062197464956,2.2227494158821073 L 6.863466114123764,2.106320230004854 L 6.961888826195919,1.8144451569358484 L 6.969601773690491,1.7656646935058404 L 6.972432250976563,1.7477633666992187 L 6.883023391314907,1.3793610957984892 L 6.865130542696974,1.345683363233008 L 6.767670288085938,1.2075256347656251 L 6.65414056181079,1.121153136506339 L 6.58552837663102,1.0751901389624254 L 6.433070068359375,1.0093801879882813 L 6.42648361684787,1.0086153150902388 L 6.255308201425604,0.9887370185843034 L 5.779912146912412,0.9849336502485796 L 5.419912178854835,0.984826415591907 L 5.319912187727731,0.9847966281872758 L 4.5499062985681,0.9845672633970358 L 4.499912260485474,0.9845523714692992 L 4.189906330510524,0.9844600287403632 L 3.6299123376796656,0.9842932210490071 L 3.4199063988318197,0.9842306657247023 L 3.319906407704715,0.9842008783200711 L 2.909906444083587,0.9840787499610828 L 2.9101200062595103,0.38230620783067915 z\" /></g></svg>"
      ],
      "text/plain": [
       "<shapely.geometry.polygon.Polygon at 0x22634a3a710>"
      ]
     },
     "execution_count": 7,
     "metadata": {},
     "output_type": "execute_result"
    }
   ],
   "source": [
    "if not autoParams:\n",
    "    track = \"reinvent_base\"\n",
    "    print(\"Track: {}\".format(track))\n",
    "else:\n",
    "    track = autoParams['track']\n",
    "    print(\"Track: {} (Loaded from autoParams)\".format(track))\n",
    "l_center_line, l_inner_border, l_outer_border, road_poly = tu.load_track(track)\n",
    "\n",
    "road_poly"
   ]
  },
  {
   "cell_type": "markdown",
   "metadata": {},
   "source": [
    "## Load the trace training log\n",
    "\n",
    "Now that the data is downloaded, we need to load it into memory. We will first read it from file and then convert to data frames in Pandas. [Pandas](https://pandas.pydata.org/) is a Python library for handling and analysing large amounts of data series. Remember this name, you may want to learn more about how to use it to get more information that you would like to get from the logs. Examples below are hardly scratching the surface.\n",
    "\n",
    "One important information to enter is the setting of your Episodes per iteration hyperparameter. This is used to group the episodes into iterations. This information is valuable when later looking at graphs showing how the training progresses per iteration. You can use it to detect which iteration gave you better outcomes and, if in local training, you could move to that iteration's outcome for submissions in the AWS DeepRacer League or  for continuing the training.\n",
    "\n",
    "The log files you have just gathered above have lines like this one:\n",
    "```\n",
    "SIM_TRACE_LOG:799,111,1.7594,4.4353,3.0875,-0.26,2.50,2,1.0000,False,True,71.5802,49,17.67,1555554451.1110387\n",
    "```\n",
    "This is all that matters for us. The first two are some tests I believe and when loading they get skipped, then each next line has the following fields:\n",
    "* episode number\n",
    "* step number\n",
    "* x coordinate\n",
    "* y coordinate\n",
    "* yaw of the car (where the car is heading)\n",
    "* decision about turning (turn value from your action space)\n",
    "* decision about throttle (speed value from your action space)\n",
    "* decision index (value from your action space)\n",
    "* reward value\n",
    "* is the car going backwards\n",
    "* are all wheels on track?\n",
    "* progress in the lap\n",
    "* closest waypoint\n",
    "* track length\n",
    "* timestamp\n",
    "\n",
    "`la.load_data` and then `la.convert_to_pandas` read it and prepare for your usage. Sorting the values may not be needed, but I have experienced under some circumstances that the log lines were not ordered properly."
   ]
  },
  {
   "cell_type": "code",
   "execution_count": 8,
   "metadata": {},
   "outputs": [
    {
     "name": "stdout",
     "output_type": "stream",
     "text": [
      "EPISODES_PER_ITERATION set to 40 from autoParams\n"
     ]
    }
   ],
   "source": [
    "EPISODES_PER_ITERATION = 20 #  Set to value of your hyperparameter in training\n",
    "if autoParams:\n",
    "    EPISODES_PER_ITERATION = autoParams['hyperParameters']['num_episodes_between_training']\n",
    "    print(\"EPISODES_PER_ITERATION set to {} from autoParams\".format(EPISODES_PER_ITERATION))\n",
    "    \n",
    "data = la.load_data(fname)\n",
    "df = la.convert_to_pandas(data, episodes_per_iteration=EPISODES_PER_ITERATION)\n",
    "\n",
    "df = df.sort_values(['episode', 'steps'])\n",
    "# personally I think normalizing can mask too high rewards so I am commenting it out,\n",
    "# but you might want it.\n",
    "# la.normalize_rewards(df)\n",
    "\n",
    "#Uncomment the line of code below to evaluate a different reward function\n",
    "#la.new_reward(df, l_center_line, 'reward.reward_sample') #, verbose=True)"
   ]
  },
  {
   "cell_type": "markdown",
   "metadata": {},
   "source": [
    "## New reward\n",
    "\n",
    "Note the last line above: it takes a reward class from log-analysis/rewards, imports it, instantiates and recalculates reward values based on the data from the log. This lets you do some testing before you start training and rule out some obvious things.\n",
    "\n",
    "*If you find this confusing, don't worry, because it is confusing. You can safely ignore it for now and come back to it later.*\n",
    "\n",
    "This operation is possible because the logs contain all information needed to recreate the params for a given step. That said some could be implemented better and some were ignored for now and should be implemented.\n",
    "\n",
    "The sample reward mentioned in that line is located in `log-analysis/rewards/reward_sample.py` and looks like this:\n",
    "\n",
    "```\n",
    "from time import time\n",
    "\n",
    "\n",
    "class Reward:\n",
    "    def __init__(self, verbose=False):\n",
    "        self.previous_steps = None\n",
    "        self.initial_time = None\n",
    "        self.verbose = verbose\n",
    "\n",
    "    @staticmethod\n",
    "    def get_time(params):\n",
    "        # remember: this will not return time before\n",
    "        # the first step has completed so the total\n",
    "        # time for lap will be lower by about 0.2s\n",
    "        return params.get('timestamp', None) or time()\n",
    "\n",
    "    def reward_function(self, params):\n",
    "        if self.previous_steps is None \\\n",
    "                or self.previous_steps > params['steps']:\n",
    "            # new lap!\n",
    "            self.initial_time = self.get_time(params)\n",
    "        else:\n",
    "            # we're continuing a lap\n",
    "            pass\n",
    "\n",
    "        steering_factor = 1.0\n",
    "\n",
    "        if abs(params['steering_angle']) > 14:\n",
    "            steering_factor = 0.7\n",
    "\n",
    "        reward = float(steering_factor)\n",
    "\n",
    "        self.previous_steps = params['steps']\n",
    "\n",
    "        if self.verbose:\n",
    "            print(params)\n",
    "\n",
    "        return reward\n",
    "\n",
    "\n",
    "reward_object = Reward()\n",
    "\n",
    "\n",
    "def reward_function(params):\n",
    "    return reward_object.reward_function(params)\n",
    "\n",
    "```\n",
    "\n",
    "After some imports a class is declared, it's called `Reward`, then the class is instantiated and a function `reward_function` is declared. This somewhat bloated structure has a couple benefits:\n",
    "* It works in console/local training for actual training\n",
    "* It lets you reload the definition for class Reward and retry the reward function multiple times after changes without much effort\n",
    "* If you want to rely on state carried over between the steps, it's all contained in a reward object \n",
    "\n",
    "The reward class hides two or three tricks for you:\n",
    "* `get_time` lets you abstract from machine time in log analysis - the supporting code adds one extra param, `timestamp`. That lets you get the right time value in new_reward function\n",
    "* the first condition allows detecting the beginning of an episode or even start of training you can use it for some extra operations between the episodes\n",
    "* `verbose` can be used to provide some noisier prints in the reward function - you can switch them on when loading the reward function above.\n",
    "\n",
    "Just remember: not all params are provided, you are free to implement them and raise a Pull Request for log_analysis.df_to_params method.\n",
    "\n",
    "If you just wrap your reward function like in the above example, you can use it in both log analysis notebook and the training.\n",
    "\n",
    "Final warning: there is a loss of precision in the logs (rounded numbers) and also potentially potential bugs. If you find any, please fix, please report.\n",
    "\n",
    "## Graphs\n",
    "\n",
    "The original notebook has provided some great ideas on what could be visualised in the graphs. Below examples are a slightly extended version. Let's have a look at what they are presenting and what this may mean to your training.\n",
    "\n",
    "### Training progress\n",
    "\n",
    "As you have possibly noticed by now, training episodes are grouped into iterations and this notebook also reflects it. What also marks it are checkpoints in the training. After each iteration a set of ckpt files is generated - they contain outcomes of the training, then a model.pb file is built based on that and the car begins a new iteration. Looking at the data grouped by iterations may lead you to a conclusion, that some earlier checkpoint would be a better start for a new training. While this is limited in the AWS DeepRacer Console, with enough disk space you can keep all the checkpoints along the way and use one of them as a start for new training (or even as a submission to a race).\n",
    "\n",
    "While the episodes in a given iteration are a mixture of decision process and random guesses, mean results per iteration may show a specific trend. Mean values are accompanied by standard deviation to show the concentration of values around the mean.\n",
    "\n",
    "#### Rewards per Iteration\n",
    "\n",
    "You can see these values as lines or dots per episode in the AWS DeepRacer console. When the reward goes up, this suggests that a car is learning and improving with regards to a given reward function. **This does not have to be a good thing.** If your reward function rewards something that harms performance, your car will learn to drive in a way that will make results worse.\n",
    "\n",
    "At first the rewards just grow if the progress achieved grows. Interesting things may happen slightly later in the training:\n",
    "\n",
    "* The reward may go flat at some level - it might mean that the car can't get any better. If you think you could still squeeze something better out of it, review the car's progress and consider updating the reward function, the action space, maybe hyperparameters, or perhaps starting over (either from scratch or from some previous checkpoint)\n",
    "* The reward may become wobbly - here you will see it as a mesh of dots zig-zagging. It can be a gradually growing zig-zag or a roughly stagnated one. This usually means the learning rate hyperparameter is too high and the car started doing actions that oscilate around some local extreme. You can lower the learning rate and hope to step closer to the extreme. Or run away from it if you don't like it\n",
    "* The reward plunges to near zero and stays roughly flat - I only had that when I messed up the hyperparameters or the reward function. Review recent changes and start training over or consider starting from scratch\n",
    "\n",
    "The Standard deviation says how close from each other the reward values per episode in a given iteration are. If your model becomes reasonably stable and worst performances become better, at some point the standard deviation may flat out or even decrease. That said, higher speeds usually mean there will be areas on track with higher risk of failure. This may bring the value of standard deviation to a higher value and regardless of whether you like it or not, you need to accept it as a part of fighting for significantly better times.\n",
    "\n",
    "#### Time per iteration\n",
    "\n",
    "I'm not sure how useful this graph is. I would worry if it looked very similar to the reward graph - this could suggest that slower laps will be getting higher rewards. But there is a better graph for spotting that below.\n",
    "\n",
    "#### Progress per Iteration\n",
    "\n",
    "This graph usually starts low and grows and at some point it will get flatter. The maximum value for progress is 100% so it cannot grow without limits. It usually shows similar initial behaviours to reward and time graphs. I usually look at it when I alter an action in training. In such cases this graph usually dips a bit and then returns or goes higher.\n",
    "\n",
    "#### Total reward per episode\n",
    "\n",
    "This graph has been taken from the orignal notebook and can show progress on certain groups of behaviours. It usually forms something like a triangle, sometimes you can see a clear line of progress that shows some new way has been first taught and then perfected.\n",
    "\n",
    "#### Mean completed lap times per iteration\n",
    "\n",
    "Once we have a model that completes laps reasonably often, we might want to know how fast the car gets around the track. This graph will show you that. I use it quite often when looking for a model to shave a couple more miliseconds. That said it has to go in pair with the last one:\n",
    "\n",
    "#### Completion rate per iteration\n",
    "\n",
    "It represents how big part of all episodes in an iteration is full laps. The value is from range [0, 1] and is a result of deviding amount of full laps in iteration by amount of all episodes in iteration. I say it has to go in pair with the previous one because you not only need a fast lapper, you also want a race completer.\n",
    "\n",
    "The higher the value, the more stable the model is on a given track."
   ]
  },
  {
   "cell_type": "code",
   "execution_count": 9,
   "metadata": {
    "scrolled": false
   },
   "outputs": [
    {
     "name": "stderr",
     "output_type": "stream",
     "text": [
      "c:\\users\\tfrancis\\myenv\\lib\\site-packages\\numpy\\core\\fromnumeric.py:2495: FutureWarning: Method .ptp is deprecated and will be removed in a future version. Use numpy.ptp instead.\n",
      "  return ptp(axis=axis, out=out, **kwargs)\n"
     ]
    },
    {
     "name": "stdout",
     "output_type": "stream",
     "text": [
      "new reward not found, using reward as its values\n",
      "Number of episodes =  865\n",
      "Number of iterations =  22\n"
     ]
    },
    {
     "data": {
      "image/png": "[encoded data removed]",
      "text/plain": [
       "<Figure size 1080x1080 with 9 Axes>"
      ]
     },
     "metadata": {
      "needs_background": "light"
     },
     "output_type": "display_data"
    },
    {
     "data": {
      "text/plain": [
       "<Figure size 432x288 with 0 Axes>"
      ]
     },
     "metadata": {},
     "output_type": "display_data"
    }
   ],
   "source": [
    "simulation_agg = la.simulation_agg(df)\n",
    "\n",
    "la.analyze_training_progress(simulation_agg, title='Training progress')"
   ]
  },
  {
   "cell_type": "markdown",
   "metadata": {},
   "source": [
    "### Stats for all laps\n",
    "\n",
    "Previous graphs were mainly focused on the state of training with regards to training progress. This however will not give you a lot of information about how well your reward function is doing overall.\n",
    "\n",
    "In such case `scatter_aggregates` may come handy. It comes with three types of graphs:\n",
    "* progress/steps/reward depending on the time of an episode - of this I find reward/time and new_reward/time especially useful to see that I am rewarding good behaviours - I expect the reward to time scatter to look roughly triangular\n",
    "* histograms of time and progress - for all episodes the progress one is usually quite handy to get an idea of model's stability\n",
    "* progress/time_if_complete/reward to closest waypoint at start - these are really useful during training as they show potentially problematic spots on track. It can turn out that a car gets best reward (and performance) starting at a point that just cannot be reached if the car starts elsewhere, or that there is a section of a track that the car struggles to get past and perhaps it's caused by an aggressive action space or undesirable behaviour prior to that place\n",
    "\n",
    "Side note: `time_if_complete` is not very accurate and will almost always look better for episodes closer to 100% progress than in case of those 50% and below."
   ]
  },
  {
   "cell_type": "code",
   "execution_count": null,
   "metadata": {
    "scrolled": false
   },
   "outputs": [],
   "source": [
    "# This gives the warning about ptp method deprecation. The code looks as if np.ptp was used, I don't know how to fix it.\n",
    "la.scatter_aggregates(simulation_agg, 'Stats for all laps')"
   ]
  },
  {
   "cell_type": "markdown",
   "metadata": {},
   "source": [
    "### Stats for complete laps\n",
    "The graphs here are same as above, but now I am interested in other type of information:\n",
    "* does the reward scatter show higher rewards for lower completion times? If I give higher reward for a slower lap it might suggest that I am training the car to go slow\n",
    "* what does the time histogram look like? With enough samples available the histogram takes a normal distribution graph shape. The lower the mean value, the better the chance to complete a fast lap consistently. The longer the tails, the greater the chance of getting lucky in submissions\n",
    "* is the car completing laps around the place where the race lap starts? Or does it only succeed if it starts in a place different to the racing one?"
   ]
  },
  {
   "cell_type": "code",
   "execution_count": null,
   "metadata": {
    "scrolled": false
   },
   "outputs": [],
   "source": [
    "complete_ones = simulation_agg[simulation_agg['progress']==100]\n",
    "\n",
    "if complete_ones.shape[0] > 0:\n",
    "    la.scatter_aggregates(complete_ones, 'Stats for complete laps')\n",
    "else:\n",
    "    print('No complete laps yet.')"
   ]
  },
  {
   "cell_type": "markdown",
   "metadata": {},
   "source": [
    "### Categories analysis\n",
    "We're going back to comparing training results based on the training time, but in a different way. Instead of just scattering things in relation to iteration or episode number, this time we're grouping episodes based on a certaing information. For this we use function:\n",
    "```\n",
    "analyze_categories(panda, category='quintile', groupcount=5, title=None)\n",
    "```\n",
    "The idea is pretty simple - determine a way to cluster the data and provide that as the `category` parameter (alongside the count of groups available). In the default case we take advantage of the aggregated information to which quintile an episode belongs and thus build buckets each containing 20% of episodes which happened around the same time during the training. If your training lasted for five hours, this would show results grouped per each hour.\n",
    "\n",
    "A side note: if you run the function with `category='start_at'` and `groupcount=20` you will get results based on the waypoint closest to the starting point of an episode. If you need to, you can introduce other types of categories and reuse the function.\n",
    "\n",
    "The graphs are similar to what we've seen above. I especially like the progress one which shows where the model tends to struggle and whether it's successful laps rate is improving or beginning to decrease. Interestingly, I also had cases where I saw the completion drop on the progress rate only to improve in a later quintile, but with a better time graph.\n",
    "\n",
    "A second side note: if you run this function for `complete_ones` instead of `simulation_agg`, suddenly the time histogram becomes more interesting as you can see whether completion times improve."
   ]
  },
  {
   "cell_type": "code",
   "execution_count": null,
   "metadata": {
    "scrolled": false
   },
   "outputs": [],
   "source": [
    "la.analyze_categories(simulation_agg, title='Quintiles')"
   ]
  },
  {
   "cell_type": "markdown",
   "metadata": {},
   "source": [
    "## Data in tables\n",
    "\n",
    "While a lot can be seen in graphs that cannot be seen in the raw numbers, the numbers let us get into more detail. Below you will find a couple examples. If your model is behaving the way you would like it to, below tables may provide little added value, but if you struggle to improve your car's performance, they may come handy. In such cases I look for examples where high reward is giving to below-expected episode and when good episodes are given low reward.\n",
    "\n",
    "You can then take the episode number and scatter it below, and also look at reward given per step - this can in turn draw your attention to some rewarding anomalies and help you detect some unexpected outcomes in your reward function.\n",
    "\n",
    "There is a number of ways to select the data for display:\n",
    "* `nlargest`/`nsmallest` lets you display information based on a specific value being highest or lowest\n",
    "* filtering based on a field value, for instance `df[df['episode']==10]` will display only those steps in `df` which belong to episode 10\n",
    "* `head()` lets you peek into a dataframe\n",
    "\n",
    "There isn't a right set of tables to display here and the ones below may not suit your needs. Get to know Pandas more and have fun with them. It's almost as addictive as DeepRacer itself.\n",
    "\n",
    "The examples have a short comment next to them explaining what they are showing."
   ]
  },
  {
   "cell_type": "code",
   "execution_count": null,
   "metadata": {},
   "outputs": [],
   "source": [
    "# View ten best rewarded episodes in the training\n",
    "simulation_agg.nlargest(10, 'new_reward')"
   ]
  },
  {
   "cell_type": "code",
   "execution_count": null,
   "metadata": {},
   "outputs": [],
   "source": [
    "# View five fastest complete laps\n",
    "complete_ones.nsmallest(5, 'time')"
   ]
  },
  {
   "cell_type": "code",
   "execution_count": null,
   "metadata": {},
   "outputs": [],
   "source": [
    "# View five best rewarded completed laps\n",
    "complete_ones.nlargest(5, 'reward')"
   ]
  },
  {
   "cell_type": "code",
   "execution_count": null,
   "metadata": {
    "scrolled": true
   },
   "outputs": [],
   "source": [
    "# View five best rewarded in completed laps (according to new_reward if you are using it)\n",
    "complete_ones.nlargest(5, 'new_reward')"
   ]
  },
  {
   "cell_type": "code",
   "execution_count": null,
   "metadata": {},
   "outputs": [],
   "source": [
    "# View five most progressed episodes\n",
    "simulation_agg.nlargest(5, 'progress')"
   ]
  },
  {
   "cell_type": "code",
   "execution_count": null,
   "metadata": {
    "scrolled": true
   },
   "outputs": [],
   "source": [
    "# View information for a couple first episodes\n",
    "simulation_agg.head()"
   ]
  },
  {
   "cell_type": "code",
   "execution_count": null,
   "metadata": {
    "scrolled": true
   },
   "outputs": [],
   "source": [
    "# Set maximum quantity of rows to view for a dataframe display - without that\n",
    "# the view below will just hide some of the steps\n",
    "pd.set_option('display.max_rows', 500)\n",
    "\n",
    "# View all steps data for episode 10\n",
    "df[df['episode']==10]"
   ]
  },
  {
   "cell_type": "markdown",
   "metadata": {},
   "source": [
    "## Analyze the reward distribution for your reward function"
   ]
  },
  {
   "cell_type": "code",
   "execution_count": null,
   "metadata": {},
   "outputs": [],
   "source": [
    "# This shows a histogram of actions per closest waypoint for episode 771.\n",
    "# Will let you spot potentially problematic places in reward granting.\n",
    "# In this example reward function is clearly `return 1`. It may be worrying\n",
    "# if your reward function has some logic in it.\n",
    "# If you have a final step reward that makes the rest of this histogram\n",
    "# unreadable, you can filter the last step out by using\n",
    "# `episode[:-1].plot.bar` instead of `episode.plot.bar`\n",
    "episode = df[df['episode']==7]\n",
    "episode.plot.bar(x='closest_waypoint', y='reward')"
   ]
  },
  {
   "cell_type": "markdown",
   "metadata": {},
   "source": [
    "### Path taken for top reward iterations\n",
    "\n",
    "NOTE: at some point in a single episode the car could go around multiple laps, the episode was terminated when car completed 1000 steps. Currently one episode has at most one lap. This explains why you can see multiple laps in an episode plotted below.\n",
    "\n",
    "Being able to plot the car's route in an episode can help you detect certain patterns in its behaviours and either promote them more or train away from them. While being able to watch the car go in the training gives some information, being able to reproduce it after the training is much more practical.\n",
    "\n",
    "Graphs below give you a chance to look deeper into your car's behaviour on track."
   ]
  },
  {
   "cell_type": "code",
   "execution_count": null,
   "metadata": {
    "scrolled": false
   },
   "outputs": [],
   "source": [
    "# Fetch information about the car's episodes and plot some of them\n",
    "action_map, episode_map, sorted_idx = la.episode_parser(data)\n",
    "\n",
    "# There is a trick that lets you view top episodes based on different criteria\n",
    "# than the ones returned from the `episode_parser` function. Some examples:\n",
    "# highest reward for complete laps:\n",
    "# sorted_idx = list(complete_ones.nlargest(3,'reward')['episode'])\n",
    "# highest progress from all episodes:\n",
    "# sorted_idx = list(simulation_agg.nlargest(3,'progress')['episode'])\n",
    "\n",
    "fig = la.plot_top_laps(sorted_idx[:],  episode_map, l_center_line, l_inner_border, l_outer_border, 3)"
   ]
  },
  {
   "cell_type": "markdown",
   "metadata": {},
   "source": [
    "### Plot a heatmap of rewards for current training. \n",
    "The brighter the colour, the higher the reward granted in given coordinates.\n",
    "If instead of a similar view as in the example below you get a dark image with hardly any \n",
    "dots, it might be that your rewards are highly disproportionate and possibly sparse.\n",
    "\n",
    "Disproportion means you may have one reward of 10.000 and the rest in range 0.01-1.\n",
    "In such cases the vast majority of dots will simply be very dark and the only bright dot\n",
    "might be in a place difficult to spot. I recommend you go back to the tables and show highest\n",
    "and average rewards per step to confirm if this is the case. Such disproportions may\n",
    "not affect your traning very negatively, but they will make the data less readable in this notebook.\n",
    "\n",
    "Sparse data means that the car gets a high reward for the best behaviour and very low reward\n",
    "for anything else, and worse even, reward is pretty much discrete (return 10 for narrow perfect,\n",
    "else return 0.1). The car relies on reward varying between behaviours to find gradients that can\n",
    "lead to improvement. If that is missing, the model will struggle to improve."
   ]
  },
  {
   "cell_type": "code",
   "execution_count": null,
   "metadata": {},
   "outputs": [],
   "source": [
    "# Some tracks have negative coordinates for which `la.plot_track` is not ready. It has been improved\n",
    "# using RichardFan's modification to offer an x_shift and y_shift parameters. They may require\n",
    "# different values for other tracks. You will then need to change it in the future. Simply add parameters:\n",
    "# track_size=(700,1000), y_shift=300 to this method\n",
    "track = la.plot_track(df, l_center_line, l_inner_border, l_outer_border)\n",
    "\n",
    "\n",
    "plt.title(\"Reward distribution for all actions \")\n",
    "im = plt.imshow(track, cmap='hot', interpolation='bilinear', origin=\"lower\") "
   ]
  },
  {
   "cell_type": "markdown",
   "metadata": {},
   "source": [
    "### Plot a particular iteration\n",
    "This is same as the heatmap above, but just for a single iteration."
   ]
  },
  {
   "cell_type": "code",
   "execution_count": null,
   "metadata": {},
   "outputs": [],
   "source": [
    "iteration_id = 3\n",
    "track = la.plot_track(df[df['iteration'] == iteration_id], l_center_line, l_inner_border, l_outer_border)\n",
    "plt.title(\"Reward distribution for all actions \")\n",
    "im = plt.imshow(track, cmap='hot', interpolation='bilinear', origin=\"lower\") "
   ]
  },
  {
   "cell_type": "markdown",
   "metadata": {},
   "source": [
    "### Path taken in a particular episode"
   ]
  },
  {
   "cell_type": "code",
   "execution_count": null,
   "metadata": {},
   "outputs": [],
   "source": [
    "## Evaluation RUN\n",
    "def plot_episode_run(df, E, center_line, inner_border, outer_border):\n",
    "    fig = plt.figure(1, figsize=(12, 16))\n",
    "    ax = fig.add_subplot(211)\n",
    "    la.print_border(ax, center_line, inner_border, outer_border) \n",
    "    episode_data = df[df['episode'] == E]\n",
    "    for row in episode_data.iterrows():\n",
    "        x1,y1,action,reward = row[1]['x'], row[1]['y'], row[1]['action'], row[1]['reward']\n",
    "        car_x2, car_y2 = x1 - 0.02, y1\n",
    "        plt.plot([x1, car_x2], [y1, car_y2], 'r.')"
   ]
  },
  {
   "cell_type": "code",
   "execution_count": null,
   "metadata": {},
   "outputs": [],
   "source": [
    "plot_episode_run(df, 122, l_center_line, l_inner_border, l_outer_border) # arbitrary episode"
   ]
  },
  {
   "cell_type": "markdown",
   "metadata": {},
   "source": [
    "### Path taken in a particular Iteration"
   ]
  },
  {
   "cell_type": "code",
   "execution_count": null,
   "metadata": {
    "scrolled": false
   },
   "outputs": [],
   "source": [
    "iteration_id = 10\n",
    "\n",
    "for i in range((iteration_id-1)*EPISODES_PER_ITERATION, (iteration_id)*EPISODES_PER_ITERATION):\n",
    "    plot_episode_run(df, i, l_center_line, l_inner_border, l_outer_border)"
   ]
  },
  {
   "cell_type": "markdown",
   "metadata": {},
   "source": [
    "# Bulk training load\n",
    "\n",
    "This is some slow and heavy stuff. You can download all logs from CloudWatch (or part of them if you play with `not_older_than` and `older_than` parameters that take a string representation of a date in ISO format, for instance `DD-MM-YYYY` works).\n",
    "\n",
    "The basic assumption in code below is that you may want to group logs by folders, so either remove `SELECT_YOUR_SUBFOLDER/training/` from the call or set up your own folder and point to it.\n",
    "\n",
    "Since it can be a lot of downloading, it is commented out in here to avoid accidental runs.\n",
    "\n",
    "Files downloaded once will not be downloaded again unless you add `force=True`."
   ]
  },
  {
   "cell_type": "code",
   "execution_count": null,
   "metadata": {},
   "outputs": [],
   "source": [
    "#logs = cw.download_all_logs('logs/SELECT_YOUR_SUBFOLDER/training/deepracer-', '/aws/robomaker/SimulationJobs')"
   ]
  },
  {
   "cell_type": "markdown",
   "metadata": {},
   "source": [
    "Load every log from a folder. Every single one. This is a lot of data. If you want to save yourself some time later, below you have code to save and load all that with use of pickle.\n",
    "\n",
    "Same comment applies to `SELECT_YOUR_SUBFOLDER/training/` - point it at a location that you're interested in.\n",
    "\n",
    "Alternatively, `logs` returned from `download_all_logs` is a list of tuples in which first element is a path to a downloaded log file (even if it already exists, but would've been donwloaded if `force=True`), so you can use that to load logs in bulk."
   ]
  },
  {
   "cell_type": "code",
   "execution_count": null,
   "metadata": {},
   "outputs": [],
   "source": [
    "import os\n",
    "\n",
    "base_folder = 'logs/SELECT_YOUR_SUBFOLDER/training'\n",
    "df_list = list()\n",
    "big_training_panda = None\n",
    "for stream in os.listdir(base_folder):\n",
    "    data = la.load_data('%s/%s' % (base_folder, stream))\n",
    "    df = la.convert_to_pandas(data)\n",
    "    df['stream'] = stream[10:]\n",
    "    if big_training_panda is not None:\n",
    "        big_training_panda = big_training_panda.append(df)\n",
    "    else:\n",
    "        big_training_panda = df\n"
   ]
  },
  {
   "cell_type": "code",
   "execution_count": null,
   "metadata": {},
   "outputs": [],
   "source": [
    "# Have I mentioned a lot of data? This stores the data preprocessed for time savings\n",
    "big_training_panda.to_pickle('bulk_training_set.pickle')"
   ]
  },
  {
   "cell_type": "code",
   "execution_count": null,
   "metadata": {},
   "outputs": [],
   "source": [
    "from pandas import read_pickle\n",
    "\n",
    "big_training_panda = read_pickle('bulk_training_set.pickle')"
   ]
  },
  {
   "cell_type": "code",
   "execution_count": null,
   "metadata": {},
   "outputs": [],
   "source": [
    "# as usual, handle with care. Towards the end of the May race I needed 30-45 minutes to recalculate the reward.\n",
    "#la.new_reward(big_training_panda, l_center_line, 'reward.reward_sample')"
   ]
  },
  {
   "cell_type": "code",
   "execution_count": null,
   "metadata": {
    "scrolled": false
   },
   "outputs": [],
   "source": [
    "# Below code is using stream name as part of grouping since otherwise there would be episode number collisions\n",
    "big_simulation_agg = la.simulation_agg(big_training_panda, 'stream')\n",
    "\n",
    "big_complete_ones = big_simulation_agg[big_simulation_agg['progress']==100]"
   ]
  },
  {
   "cell_type": "code",
   "execution_count": null,
   "metadata": {},
   "outputs": [],
   "source": [
    "grouped = big_simulation_agg.groupby(['stream'])\n",
    "\n",
    "for name, group in grouped:\n",
    "    la.scatter_aggregates(group, title=name)"
   ]
  },
  {
   "cell_type": "markdown",
   "metadata": {},
   "source": [
    "By the end of London Loop I had so much noise and random tries that wanted to find the most promising version of my model to submit. I used the below piece of code to iterate through all the stream values to detect the one with most promising times histogram. I should've added progress as well since the fastest ones hardly ever completed a lap. I will leave adding that as an exercise for the reader."
   ]
  },
  {
   "cell_type": "code",
   "execution_count": null,
   "metadata": {
    "scrolled": true
   },
   "outputs": [],
   "source": [
    "values = []\n",
    "show = []\n",
    "show_above = -1\n",
    "i = 0\n",
    "for value in big_complete_ones.stream.values:\n",
    "    if value in values:\n",
    "        continue\n",
    "    values.append(value)\n",
    "    if i in show or i > show_above:\n",
    "        print(value)\n",
    "        big_complete_ones[big_complete_ones['stream']==value].hist(column=['time'], bins=20)\n",
    "    i += 1"
   ]
  },
  {
   "cell_type": "code",
   "execution_count": null,
   "metadata": {},
   "outputs": [],
   "source": [
    "# display loads of everything\n",
    "big_simulation_agg"
   ]
  },
  {
   "cell_type": "markdown",
   "metadata": {},
   "source": [
    "# Action breakdown per iteration and historgram for action distribution for each of the turns - reinvent track\n",
    "\n",
    "This plot is useful to understand the actions that the model takes for any given iteration. Unfortunately at this time it is not fit for purpose as it assumes six actions in the action space and has other issues. It will require some work to get it to done but the information it returns will be very valuable.\n",
    "\n",
    "This is a bit of an attempt to abstract away from the brilliant function in the original notebook towards a more general graph that we could use. It should be treated as a work in progress. The track_breakdown could be used as a starting point for a general track information object to handle all the customisations needed in methods of this notebook.\n",
    "\n",
    "A breakdown track data needs to be available for it. If you cannot find it for the desired track, MAKEIT.\n",
    "\n",
    "Currently supported tracks:"
   ]
  },
  {
   "cell_type": "code",
   "execution_count": null,
   "metadata": {},
   "outputs": [],
   "source": [
    "la.track_breakdown.keys()"
   ]
  },
  {
   "cell_type": "markdown",
   "metadata": {},
   "source": [
    "The second parameter is either a single index or a list of indices for df iterations that you would like to view. You can for instance use `sorted_idx` list which is a sorted list of iterations from the highest to lowest reward.\n",
    "\n",
    "Bear in mind that you will have to provide a proper action naming in parameter `action_names`, this function assumes only six actions by default. I think they need to match numbering of actions in your model's metadata json file."
   ]
  },
  {
   "cell_type": "code",
   "execution_count": null,
   "metadata": {
    "scrolled": false
   },
   "outputs": [],
   "source": [
    "la.action_breakdown(df, 20, la.track_breakdown['reinvent2018'], l_center_line, l_inner_border, l_outer_border)"
   ]
  },
  {
   "cell_type": "code",
   "execution_count": null,
   "metadata": {},
   "outputs": [],
   "source": []
  },
  {
   "cell_type": "code",
   "execution_count": null,
   "metadata": {},
   "outputs": [],
   "source": []
  }
 ],
 "metadata": {
  "kernelspec": {
   "display_name": "Python 3",
   "language": "python",
   "name": "python3"
  },
  "language_info": {
   "codemirror_mode": {
    "name": "ipython",
    "version": 3
   },
   "file_extension": ".py",
   "mimetype": "text/x-python",
   "name": "python",
   "nbconvert_exporter": "python",
   "pygments_lexer": "ipython3",
   "version": "3.7.2"
  }
 },
 "nbformat": 4,
 "nbformat_minor": 2
}
