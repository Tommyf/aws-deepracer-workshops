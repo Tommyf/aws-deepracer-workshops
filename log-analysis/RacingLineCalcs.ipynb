{
 "cells": [
  {
   "cell_type": "code",
   "execution_count": 1,
   "metadata": {},
   "outputs": [],
   "source": [
    "import numpy as np"
   ]
  },
  {
   "cell_type": "code",
   "execution_count": 9,
   "metadata": {
    "scrolled": false
   },
   "outputs": [],
   "source": [
    "racing_line_points = np.load(\"Canada_Training-1000-4-2019-10-11-163418.npy\")"
   ]
  },
  {
   "cell_type": "code",
   "execution_count": 12,
   "metadata": {
    "collapsed": true
   },
   "outputs": [
    {
     "data": {
      "text/plain": [
       "array([[ 4.58690814,  1.62381599],\n",
       "       [ 4.48738106,  1.65427416],\n",
       "       [ 4.38725046,  1.68433614],\n",
       "       [ 4.28650273,  1.71406729],\n",
       "       [ 4.18493776,  1.74356116],\n",
       "       [ 4.08163985,  1.77406108],\n",
       "       [ 3.97832333,  1.80508233],\n",
       "       [ 3.87512443,  1.83662263],\n",
       "       [ 3.77211047,  1.86872584],\n",
       "       [ 3.66931665,  1.90142676],\n",
       "       [ 3.5667727 ,  1.93477735],\n",
       "       [ 3.46450369,  1.96882859],\n",
       "       [ 3.36251967,  2.00359792],\n",
       "       [ 3.26080706,  2.03904586],\n",
       "       [ 3.15932308,  2.07506231],\n",
       "       [ 3.05802492,  2.11153893],\n",
       "       [ 2.95687354,  2.14837789],\n",
       "       [ 2.85585551,  2.18554509],\n",
       "       [ 2.75883824,  2.22060616],\n",
       "       [ 2.66230625,  2.25419253],\n",
       "       [ 2.56644797,  2.28554876],\n",
       "       [ 2.47140549,  2.31398797],\n",
       "       [ 2.37731947,  2.33884628],\n",
       "       [ 2.28436053,  2.35948844],\n",
       "       [ 2.19273576,  2.37537617],\n",
       "       [ 2.10270351,  2.38604352],\n",
       "       [ 2.01457372,  2.39108769],\n",
       "       [ 1.92870117,  2.39017183],\n",
       "       [ 1.8455711 ,  2.38283127],\n",
       "       [ 1.76540056,  2.36930326],\n",
       "       [ 1.68843599,  2.34970859],\n",
       "       [ 1.61491668,  2.3241611 ],\n",
       "       [ 1.54562711,  2.29200111],\n",
       "       [ 1.48021793,  2.25434192],\n",
       "       [ 1.41931891,  2.21083539],\n",
       "       [ 1.36380989,  2.16101989],\n",
       "       [ 1.31511767,  2.10415835],\n",
       "       [ 1.27611324,  2.03901854],\n",
       "       [ 1.24632892,  1.96765326],\n",
       "       [ 1.22479791,  1.89173628],\n",
       "       [ 1.21095609,  1.81227247],\n",
       "       [ 1.20433386,  1.73001781],\n",
       "       [ 1.20472823,  1.64551202],\n",
       "       [ 1.21191166,  1.55924072],\n",
       "       [ 1.2256072 ,  1.47164742],\n",
       "       [ 1.24549188,  1.38313076],\n",
       "       [ 1.27120175,  1.29404115],\n",
       "       [ 1.30233735,  1.2046781 ],\n",
       "       [ 1.33847044,  1.11528869],\n",
       "       [ 1.37915029,  1.02606771],\n",
       "       [ 1.4239118 ,  0.93715971],\n",
       "       [ 1.47239061,  0.84867972],\n",
       "       [ 1.52395403,  0.76066762],\n",
       "       [ 1.57824537,  0.67316842],\n",
       "       [ 1.63479949,  0.58618964],\n",
       "       [ 1.6931722 ,  0.49972327],\n",
       "       [ 1.7529591 ,  0.41375199],\n",
       "       [ 1.81381873,  0.32825241],\n",
       "       [ 1.87554104,  0.24323706],\n",
       "       [ 1.93603738,  0.15849485],\n",
       "       [ 1.99578398,  0.07337039],\n",
       "       [ 2.05473558, -0.01216384],\n",
       "       [ 2.11286616, -0.09812402],\n",
       "       [ 2.17012451, -0.18453837],\n",
       "       [ 2.22650982, -0.27140824],\n",
       "       [ 2.28208852, -0.35869942],\n",
       "       [ 2.33699743, -0.44634066],\n",
       "       [ 2.39133716, -0.53427951],\n",
       "       [ 2.44519635, -0.62246971],\n",
       "       [ 2.49858153, -0.71090791],\n",
       "       [ 2.55315288, -0.80018441],\n",
       "       [ 2.60840039, -0.88884569],\n",
       "       [ 2.66457569, -0.97664089],\n",
       "       [ 2.72193044, -1.06330053],\n",
       "       [ 2.7807145 , -1.14853223],\n",
       "       [ 2.84117098, -1.23201811],\n",
       "       [ 2.9035955 , -1.31333661],\n",
       "       [ 2.96806472, -1.39226498],\n",
       "       [ 3.03478235, -1.46838728],\n",
       "       [ 3.10384421, -1.54135851],\n",
       "       [ 3.17529632, -1.61084721],\n",
       "       [ 3.24914195, -1.67653683],\n",
       "       [ 3.32534623, -1.7381322 ],\n",
       "       [ 3.40384079, -1.79536844],\n",
       "       [ 3.48452863, -1.84802159],\n",
       "       [ 3.56728929, -1.89592025],\n",
       "       [ 3.65198431, -1.93895751],\n",
       "       [ 3.73846297, -1.97710206],\n",
       "       [ 3.82656835, -2.01040731],\n",
       "       [ 3.91614359, -2.03901717],\n",
       "       [ 4.00703771, -2.06316761],\n",
       "       [ 4.09910987, -2.08318352],\n",
       "       [ 4.19223006, -2.09947197],\n",
       "       [ 4.28627422, -2.11251339],\n",
       "       [ 4.38111294, -2.12285416],\n",
       "       [ 4.47659463, -2.13110561],\n",
       "       [ 4.57252446, -2.13796276],\n",
       "       [ 4.66872742, -2.14399834],\n",
       "       [ 4.77000868, -2.1500424 ],\n",
       "       [ 4.87130911, -2.15666494],\n",
       "       [ 4.97263773, -2.16412528],\n",
       "       [ 5.07400359, -2.17267168],\n",
       "       [ 5.17541634, -2.18256141],\n",
       "       [ 5.276882  , -2.19394462],\n",
       "       [ 5.37840338, -2.20689502],\n",
       "       [ 5.47997997, -2.22142266],\n",
       "       [ 5.58160783, -2.23748358],\n",
       "       [ 5.68327968, -2.25499019],\n",
       "       [ 5.78498545, -2.27382221],\n",
       "       [ 5.88671326, -2.29383597],\n",
       "       [ 5.98845084, -2.31487017],\n",
       "       [ 6.09018733, -2.33675134],\n",
       "       [ 6.19191516, -2.35929273],\n",
       "       [ 6.29362868, -2.38238388],\n",
       "       [ 6.39532399, -2.4059246 ],\n",
       "       [ 6.49699807, -2.42983908],\n",
       "       [ 6.59782498, -2.45315915],\n",
       "       [ 6.69849498, -2.47569571],\n",
       "       [ 6.79894984, -2.49704858],\n",
       "       [ 6.89913314, -2.51677778],\n",
       "       [ 6.99897986, -2.53439931],\n",
       "       [ 7.09842452, -2.54951355],\n",
       "       [ 7.19737634, -2.56170081],\n",
       "       [ 7.29572336, -2.5705693 ],\n",
       "       [ 7.39333932, -2.57579568],\n",
       "       [ 7.49005004, -2.57697023],\n",
       "       [ 7.58564678, -2.57369543],\n",
       "       [ 7.67988935, -2.56561554],\n",
       "       [ 7.77249828, -2.55239836],\n",
       "       [ 7.86316118, -2.53376514],\n",
       "       [ 7.9515388 , -2.5095112 ],\n",
       "       [ 8.03726886, -2.47951198],\n",
       "       [ 8.11997016, -2.4437251 ],\n",
       "       [ 8.19924737, -2.40219134],\n",
       "       [ 8.27469619, -2.35503399],\n",
       "       [ 8.3459086 , -2.30245627],\n",
       "       [ 8.41247792, -2.2447372 ],\n",
       "       [ 8.47400385, -2.18222628],\n",
       "       [ 8.53009729, -2.11533745],\n",
       "       [ 8.58038524, -2.04454242],\n",
       "       [ 8.62451568, -1.97036359],\n",
       "       [ 8.66216268, -1.89336638],\n",
       "       [ 8.69303168, -1.81415101],\n",
       "       [ 8.71686515, -1.73334328],\n",
       "       [ 8.73344843, -1.65158445],\n",
       "       [ 8.74261584, -1.56951973],\n",
       "       [ 8.74425677, -1.48778563],\n",
       "       [ 8.73832158, -1.40699594],\n",
       "       [ 8.72482696, -1.32772683],\n",
       "       [ 8.70386036, -1.25050128],\n",
       "       [ 8.67558293, -1.17577369],\n",
       "       [ 8.64023685, -1.10391207],\n",
       "       [ 8.59852451, -1.03498832],\n",
       "       [ 8.54979569, -0.96969581],\n",
       "       [ 8.49515075, -0.90777692],\n",
       "       [ 8.43520907, -0.84908712],\n",
       "       [ 8.37033534, -0.79355949],\n",
       "       [ 8.30107407, -0.74094638],\n",
       "       [ 8.22800612, -0.69091177],\n",
       "       [ 8.15174535, -0.64305094],\n",
       "       [ 8.07294303, -0.59690999],\n",
       "       [ 7.99227282, -0.55201739],\n",
       "       [ 7.91043405, -0.50789554],\n",
       "       [ 7.82183413, -0.45934669],\n",
       "       [ 7.73385588, -0.40987187],\n",
       "       [ 7.64675315, -0.35910129],\n",
       "       [ 7.56075882, -0.30670408],\n",
       "       [ 7.47607845, -0.25239782],\n",
       "       [ 7.39287   , -0.19597687],\n",
       "       [ 7.31123826, -0.1373178 ],\n",
       "       [ 7.23123156, -0.07638045],\n",
       "       [ 7.15283838, -0.01320887],\n",
       "       [ 7.07598551,  0.05206999],\n",
       "       [ 7.00053998,  0.11925234],\n",
       "       [ 6.92631822,  0.18807251],\n",
       "       [ 6.85309405,  0.25821532],\n",
       "       [ 6.78067486,  0.32941673],\n",
       "       [ 6.70890695,  0.40146852],\n",
       "       [ 6.6378418 ,  0.47162292],\n",
       "       [ 6.56615283,  0.54079899],\n",
       "       [ 6.49373643,  0.60882247],\n",
       "       [ 6.42044865,  0.67545007],\n",
       "       [ 6.34617612,  0.74048232],\n",
       "       [ 6.27081516,  0.80373199],\n",
       "       [ 6.19423915,  0.86497245],\n",
       "       [ 6.1163545 ,  0.92403245],\n",
       "       [ 6.03709717,  0.98079546],\n",
       "       [ 5.9564273 ,  1.03519585],\n",
       "       [ 5.87432458,  1.08721547],\n",
       "       [ 5.79078409,  1.1368797 ],\n",
       "       [ 5.70581254,  1.18425258],\n",
       "       [ 5.61942522,  1.22943081],\n",
       "       [ 5.53164382,  1.27253724],\n",
       "       [ 5.44249526,  1.31371417],\n",
       "       [ 5.35201168,  1.35311694],\n",
       "       [ 5.26023149,  1.39090822],\n",
       "       [ 5.16720118,  1.42725323],\n",
       "       [ 5.07297767,  1.46231616],\n",
       "       [ 4.97763079,  1.49625767],\n",
       "       [ 4.88124504,  1.52923333],\n",
       "       [ 4.78391895,  1.5613916 ],\n",
       "       [ 4.68575941,  1.59286997],\n",
       "       [ 4.58690814,  1.62381599]])"
      ]
     },
     "execution_count": 12,
     "metadata": {},
     "output_type": "execute_result"
    }
   ],
   "source": [
    "racing_line_points"
   ]
  },
  {
   "cell_type": "code",
   "execution_count": 19,
   "metadata": {},
   "outputs": [
    {
     "data": {
      "text/plain": [
       "0"
      ]
     },
     "execution_count": 19,
     "metadata": {},
     "output_type": "execute_result"
    }
   ],
   "source": [
    "node = np.array([4.58690814,  1.62381599])\n",
    "def closest_node(node, nodes):\n",
    "    # I think this gets a list of vectors. The vector from the points in the list to my point.\n",
    "    # One of them (The closest) will have the lowest value\n",
    "    # Math!\n",
    "    deltas = nodes - node\n",
    "    # This here is matrix math... I will just use it for now, and understand it later\n",
    "    # http://ajcr.net/Basic-guide-to-einsum/\n",
    "    # https://stackoverflow.com/questions/26089893/understanding-numpys-einsum\n",
    "    # It's quick, according to : https://codereview.stackexchange.com/questions/28207/finding-the-closest-point-to-a-list-of-points\n",
    "    # It's a 'dot product' thing. It gets the closest element from the array...\n",
    "    dist_2 = np.einsum('ij,ij->i', deltas, deltas)\n",
    "    return np.argmin(dist_2)\n",
    "\n",
    "closest_node(node, racing_line_points)"
   ]
  },
  {
   "cell_type": "code",
   "execution_count": 197,
   "metadata": {},
   "outputs": [
    {
     "data": {
      "text/plain": [
       "array([2, 1])"
      ]
     },
     "execution_count": 197,
     "metadata": {},
     "output_type": "execute_result"
    }
   ],
   "source": [
    "nodes = np.array([[ 1,  1],\n",
    "                  [ 2,  1],\n",
    "                  [ 2,  2],\n",
    "                  [ 1,  2]])\n",
    "nodes\n",
    "nodes2 = np.array([[ 2,  1],\n",
    "                   [ 3,  1],\n",
    "                   [ 4,  2],\n",
    "                   [ 4,  3],\n",
    "                   [ 3,  4],\n",
    "                   [ 2,  4],\n",
    "                   [ 1,  3],\n",
    "                   [ 1,  2]])\n",
    "nodes2[0]"
   ]
  },
  {
   "cell_type": "code",
   "execution_count": 203,
   "metadata": {},
   "outputs": [
    {
     "name": "stdout",
     "output_type": "stream",
     "text": [
      "CLosest are index 0 and index 1\n"
     ]
    },
    {
     "data": {
      "text/plain": [
       "array([[2, 1],\n",
       "       [3, 1]])"
      ]
     },
     "execution_count": 203,
     "metadata": {},
     "output_type": "execute_result"
    }
   ],
   "source": [
    "node = np.array([2, 1])\n",
    "#closest_node(node, nodes)\n",
    "deltas = nodes2 - node\n",
    "dist_2 = np.einsum('ij,ij->i', deltas, deltas)\n",
    "points_pos = np.argsort(dist_2)[:2]\n",
    "print(\"CLosest are index {} and index {}\".format(points_pos[0],points_pos[1]))\n",
    "points = np.array([nodes2[points_pos[0]],nodes2[points_pos[1]]])\n",
    "points\n"
   ]
  },
  {
   "cell_type": "code",
   "execution_count": 204,
   "metadata": {},
   "outputs": [
    {
     "name": "stdout",
     "output_type": "stream",
     "text": [
      "Points: [[2 1]\n",
      " [3 1]]\n",
      "0\n",
      "Prev - [1 2]\n",
      "Closest - [2 1]\n",
      "Next - [3 1]\n"
     ]
    }
   ],
   "source": [
    "path = nodes2\n",
    "closest_2_nodes = points\n",
    "print(\"Points: {}\".format(points))\n",
    "closest_point = path[points_pos[0]]\n",
    "previous_point = path[points_pos[0] - 1]\n",
    "#print(path.shape[0])\n",
    "print(points_pos[0])\n",
    "if points_pos[0] == path.shape[0] - 1:\n",
    "    next_point = path[0]\n",
    "else:\n",
    "    next_point = path[points_pos[0] + 1]\n",
    "    \n",
    "print(\"Prev - {}\".format(previous_point))\n",
    "print(\"Closest - {}\".format(closest_point))\n",
    "print(\"Next - {}\".format(next_point))"
   ]
  },
  {
   "cell_type": "code",
   "execution_count": 205,
   "metadata": {},
   "outputs": [
    {
     "name": "stdout",
     "output_type": "stream",
     "text": [
      "Deltay: -1 - Deltax: 2\n",
      "Deltay: -1 - Deltax: 1\n",
      "Deltay: 0 - Deltax: 1\n",
      "Angle_both: -26.56505117707799\n",
      "Angle1: -45.0\n",
      "Angle2: 0.0\n"
     ]
    }
   ],
   "source": [
    "angle_both = math.degrees(math.atan2(next_point[1] - previous_point[1], next_point[0] - previous_point[0]))\n",
    "print(\"Deltay: {} - Deltax: {}\".format(next_point[1] - previous_point[1], next_point[0] - previous_point[0]))\n",
    "angle1 = math.degrees(math.atan2(closest_point[1] - previous_point[1], closest_point[0] - previous_point[0]))\n",
    "print(\"Deltay: {} - Deltax: {}\".format(closest_point[1] - previous_point[1], closest_point[0] - previous_point[0]))\n",
    "angle2 = math.degrees(math.atan2(next_point[1] - closest_point[1], next_point[0] - closest_point[0]))\n",
    "print(\"Deltay: {} - Deltax: {}\".format(next_point[1] - closest_point[1], next_point[0] - closest_point[0]))\n",
    "    \n",
    "print(\"Angle_both: {}\\nAngle1: {}\\nAngle2: {}\".format(angle_both,angle1, angle2))"
   ]
  },
  {
   "cell_type": "code",
   "execution_count": 149,
   "metadata": {},
   "outputs": [
    {
     "data": {
      "text/plain": [
       "45.0"
      ]
     },
     "execution_count": 149,
     "metadata": {},
     "output_type": "execute_result"
    }
   ],
   "source": [
    "math.degrees(math.atan2(points[0][0]-points[1][0],points[0][1]-points[1][1]))"
   ]
  },
  {
   "cell_type": "code",
   "execution_count": 135,
   "metadata": {},
   "outputs": [
    {
     "data": {
      "text/plain": [
       "0.7071067811865475"
      ]
     },
     "execution_count": 135,
     "metadata": {},
     "output_type": "execute_result"
    }
   ],
   "source": [
    "l0 = nodes[0] \n",
    "l1 = nodes[2]\n",
    "p1 = node\n",
    "np.linalg.norm(np.cross(l1-l0, l0-p1))/np.linalg.norm(l1-l0)"
   ]
  },
  {
   "cell_type": "code",
   "execution_count": null,
   "metadata": {},
   "outputs": [],
   "source": []
  },
  {
   "cell_type": "code",
   "execution_count": 213,
   "metadata": {
    "scrolled": true
   },
   "outputs": [
    {
     "data": {
      "text/plain": [
       "0.92"
      ]
     },
     "execution_count": 213,
     "metadata": {},
     "output_type": "execute_result"
    }
   ],
   "source": [
    "a = 1\n",
    "b = 0.08\n",
    "x = 1\n",
    "y = pow(a * (1-b),x)\n",
    "y"
   ]
  },
  {
   "cell_type": "code",
   "execution_count": 239,
   "metadata": {},
   "outputs": [
    {
     "data": {
      "text/plain": [
       "0.91"
      ]
     },
     "execution_count": 239,
     "metadata": {},
     "output_type": "execute_result"
    }
   ],
   "source": [
    "a = 0.9\n",
    "w = 0.1\n",
    "fac = 0.1\n",
    "\n",
    "(1 - (w * (1 - fac)))"
   ]
  },
  {
   "cell_type": "code",
   "execution_count": 240,
   "metadata": {},
   "outputs": [],
   "source": [
    "a = 2\n",
    "a *= 2"
   ]
  },
  {
   "cell_type": "code",
   "execution_count": 241,
   "metadata": {},
   "outputs": [
    {
     "data": {
      "text/plain": [
       "4"
      ]
     },
     "execution_count": 241,
     "metadata": {},
     "output_type": "execute_result"
    }
   ],
   "source": [
    "a"
   ]
  },
  {
   "cell_type": "code",
   "execution_count": 243,
   "metadata": {},
   "outputs": [
    {
     "data": {
      "text/plain": [
       "0.001"
      ]
     },
     "execution_count": 243,
     "metadata": {},
     "output_type": "execute_result"
    }
   ],
   "source": [
    "1e-03"
   ]
  },
  {
   "cell_type": "code",
   "execution_count": null,
   "metadata": {},
   "outputs": [],
   "source": []
  }
 ],
 "metadata": {
  "kernelspec": {
   "display_name": "Python 3",
   "language": "python",
   "name": "python3"
  },
  "language_info": {
   "codemirror_mode": {
    "name": "ipython",
    "version": 3
   },
   "file_extension": ".py",
   "mimetype": "text/x-python",
   "name": "python",
   "nbconvert_exporter": "python",
   "pygments_lexer": "ipython3",
   "version": "3.7.2"
  }
 },
 "nbformat": 4,
 "nbformat_minor": 2
}
