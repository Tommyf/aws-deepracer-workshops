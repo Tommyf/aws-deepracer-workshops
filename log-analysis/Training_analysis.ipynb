{
 "cells": [
  {
   "cell_type": "markdown",
   "metadata": {},
   "source": [
    "# Training analysis for DeepRacer\n",
    "\n",
    "This notebook has been built based on the `DeepRacer Log Analysis.ipynb` provided by the AWS DeepRacer Team. It has been reorganised and expanded to provide new views on the training data without the helper code which was moved into utility `.py` files.\n",
    "\n",
    "## Usage\n",
    "\n",
    "I have expanded this notebook from to present how I'm using this information. It contains descriptions that you may find not that needed after initial reading. Since this file can change in the future, I recommend that you make its copy and reorganize it to your liking. This way you will not lose your changes and you'll be able to add things as you please.\n",
    "\n",
    "**This notebook isn't complete.** What I find interesting in the logs may not be what you will find interesting and useful. I recommend you get familiar with the tools and try hacking around to get the insights that suit your needs.\n",
    "\n",
    "## Contributions\n",
    "\n",
    "As usual, your ideas are very welcome and encouraged so if you have any suggestions either bring them to [the AWS DeepRacer Community](http://join.deepracing.io) or share as code contributions.\n",
    "\n",
    "## Training environments\n",
    "\n",
    "Depending on whether you're running your training through the console or using the local setup, and on which setup for local training you're using, your experience will vary. As much as I would like everything to be taylored to your configuration, there may be some problems that you may face. If so, please get in touch through [the AWS DeepRacer Community](http://join.deepracing.io).\n",
    "\n",
    "## Requirements\n",
    "\n",
    "Before you start using the notebook, you will need to install some dependencies. If you haven't yet done so, have a look at [The README.md file](/edit/README.md#running-the-notebooks) to find what you need to install.\n",
    "\n",
    "Apart from the install, you also have to configure your programmatic access to AWS. Have a look at the guides below, AWS resources will lead you by the hand:\n",
    "\n",
    "AWS CLI: https://docs.aws.amazon.com/cli/latest/userguide/cli-chap-configure.html\n",
    "\n",
    "Boto Configuration: https://boto3.amazonaws.com/v1/documentation/api/latest/guide/configuration.html\n",
    "\n",
    "## Credits\n",
    "\n",
    "I would like to thank [the AWS DeepRacer Community](http://join.deepracing.io) for all the feedback about the notebooks. If you'd like, follow [my blog](https://codelikeamother.uk) where I tend to write about my experiences with AWS DeepRacer.\n",
    "\n",
    "# Log Analysis\n",
    "\n",
    "Let's get to it.\n",
    "\n",
    "## Imports\n",
    "\n",
    "Run the imports block below:"
   ]
  },
  {
   "cell_type": "code",
   "execution_count": null,
   "metadata": {},
   "outputs": [],
   "source": [
    "import numpy as np\n",
    "import pandas as pd\n",
    "import matplotlib.pyplot as plt\n",
    "from datetime import datetime\n",
    "import ipywidgets as widgets\n",
    "%matplotlib inline\n",
    "\n",
    "#Shapely Library\n",
    "from shapely.geometry import Point, Polygon\n",
    "from shapely.geometry.polygon import LinearRing, LineString\n",
    "\n",
    "import track_utils as tu\n",
    "import log_analysis as la\n",
    "import cw_utils as cw\n",
    "import job_utils as ju\n",
    "\n",
    "# Make sure your boto version is >= '1.9.133'\n",
    "cw.boto3.__version__"
   ]
  },
  {
   "cell_type": "markdown",
   "metadata": {},
   "source": [
    "This block below has been prepared in case you would like to make some changes to the utility code that comes with this notebook. It will reload track_utlis.py, log_analysis.py and cw_utils.py without the need to reload the notebook. In normal usage of the notebook you will not need it."
   ]
  },
  {
   "cell_type": "code",
   "execution_count": 2,
   "metadata": {},
   "outputs": [
    {
     "data": {
      "text/plain": [
       "<module 'job_utils' from 'C:\\\\Users\\\\tfrancis\\\\myenv\\\\dr\\\\aws-deepracer-workshops\\\\log-analysis\\\\job_utils.py'>"
      ]
     },
     "execution_count": 2,
     "metadata": {},
     "output_type": "execute_result"
    }
   ],
   "source": [
    "# reload log_analysis and the rest of stuff here if needed\n",
    "# (handy for code updates in utils, doesn't break anything if no changes)\n",
    "import importlib\n",
    "importlib.reload(la)\n",
    "importlib.reload(cw)\n",
    "importlib.reload(tu)\n",
    "importlib.reload(ju)"
   ]
  },
  {
   "cell_type": "markdown",
   "metadata": {},
   "source": [
    "## Get the logs\n",
    "\n",
    "Depending on which way you are training your model, you will need a different way to load the data.\n",
    "\n",
    "**AWS DeepRacer Console**\n",
    "The logs are being stored in CloudWatch, in group `/aws/robomaker/SimulationJobs`. You will be using boto3 to download them based on the training ID (stream name prefix). If you wish to bulk export the logs from Amazon Cloudwatch to Amazon S3 :: https://docs.aws.amazon.com/AmazonCloudWatch/latest/logs/S3ExportTasks.html\n",
    "\n",
    "**DeepRacer for Dummies/ARCC local training**\n",
    "Those two setups come with a container that runs Jupyter Notebook (as you noticed if you're using one of them and reading this text). Logs are stored in `/logs/` and you just need to point at the latest file to see the current training. The logs are split for long running training if they exceed 500 MB. The log loading method has been extended to support that.\n",
    "\n",
    "**Chris Rhodes' repo**\n",
    "Chris repo doesn't come with logs storage out of the box. I would normally run `docker logs dr > /path/to/logfile` and then load the file.\n",
    "\n",
    "Below I have prepared a section for each case. In each case you can analyse the logs as the training is being run, just in case of the Console you may need to force downloading of the logs as the `cw.download_log` method has a protection against needless downloads.\n",
    "\n",
    "## AutoConfig Parameters\n",
    "\n",
    "You can now select autoConfig for parameters to select an available simulation from AWS and load the logs and parameters (Including hyperparameters)\n",
    "Only AWS DeepRacer Console is supported now, but others will follow"
   ]
  },
  {
   "cell_type": "code",
   "execution_count": 4,
   "metadata": {
    "scrolled": true
   },
   "outputs": [
    {
     "data": {
      "application/vnd.jupyter.widget-view+json": {
       "model_id": "0d77d96222a141a8a8e51b6c545428cd",
       "version_major": 2,
       "version_minor": 0
      },
      "text/plain": [
       "Checkbox(value=True, description='AutoConfig Parameters')"
      ]
     },
     "metadata": {},
     "output_type": "display_data"
    }
   ],
   "source": [
    "autoParams = None\n",
    "listJobsConsoleWidget = widgets.Checkbox(\n",
    "    value=True,\n",
    "    description='AutoConfig Parameters',\n",
    "    disabled=False,\n",
    ")\n",
    "display(listJobsConsoleWidget)"
   ]
  },
  {
   "cell_type": "code",
   "execution_count": 5,
   "metadata": {},
   "outputs": [
    {
     "name": "stdout",
     "output_type": "stream",
     "text": [
      "Select RoboMaker Simulation Job ID and click on 'Load Simulation Job Summary' before continuing:\n"
     ]
    },
    {
     "data": {
      "application/vnd.jupyter.widget-view+json": {
       "model_id": "4a325a0264c4459fa6310fb3b28f743f",
       "version_major": 2,
       "version_minor": 0
      },
      "text/plain": [
       "Dropdown(layout=Layout(width='auto'), options=(('sim-flwbnpp6kf5s - Track: reinvent_base - Duration: 120.0', '…"
      ]
     },
     "metadata": {},
     "output_type": "display_data"
    },
    {
     "data": {
      "application/vnd.jupyter.widget-view+json": {
       "model_id": "20d2e076c5574dd8ba1844de2162d499",
       "version_major": 2,
       "version_minor": 0
      },
      "text/plain": [
       "Button(description='Load Simulation Job Summary', layout=Layout(width='auto'), style=ButtonStyle())"
      ]
     },
     "metadata": {},
     "output_type": "display_data"
    },
    {
     "data": {
      "application/vnd.jupyter.widget-view+json": {
       "model_id": "9142c5b66cd64e64aa371b99337e8bc7",
       "version_major": 2,
       "version_minor": 0
      },
      "text/plain": [
       "Output(layout=Layout(border='1px solid black', width='auto'))"
      ]
     },
     "metadata": {},
     "output_type": "display_data"
    }
   ],
   "source": [
    "if listJobsConsoleWidget.value == True:\n",
    "    ju.display_job_selection_widget()\n",
    "    autoParams = ju.get_auto_params()\n",
    "\n"
   ]
  },
  {
   "cell_type": "code",
   "execution_count": 6,
   "metadata": {},
   "outputs": [
    {
     "name": "stdout",
     "output_type": "stream",
     "text": [
      "Using sim-gdvwdw3b16s0 from autoParams\n",
      "Downloading log file...\n",
      "Downloaded log file to logs/deepracer-sim-gdvwdw3b16s0.log\n"
     ]
    }
   ],
   "source": [
    "# AWS DeepRacer Console\n",
    "if not autoParams:\n",
    "    stream_name = 'sim-sample' ## CHANGE This to your simulation application ID\n",
    "    fname = 'logs/deepracer-%s.log' %stream_name  # The log will be downloaded into the specified path\n",
    "    cw.download_log(fname, stream_prefix=stream_name)  # add force=True if you downloaded the file before but want to repeat\n",
    "\n",
    "else:\n",
    "    jobID = autoParams['selectedJobID']\n",
    "    print(\"Using {} from autoParams\".format(jobID))\n",
    "    fname = \"logs/deepracer-{}.log\".format(jobID)  # The log will be downloaded into the specified path\n",
    "    print(\"Downloading log file...\")\n",
    "    cw.download_log(fname, stream_prefix=jobID)  # add force=True if you downloaded the file before but want to repeat\n",
    "    print(\"Downloaded log file to {}\".format(fname))\n",
    "\n",
    "# DeepRacer for Dummies / ARCC repository - comment the above and uncomment\n",
    "# the lines below. They rely on a magic command to list log files\n",
    "# ordered by time and pick up the most recent one (index zero).\n",
    "# If you want an earlier file, change 0 to larger value.\n",
    "# !ls -t /workspace/venv/logs/*.log\n",
    "# fname = !ls -t /workspace/venv/logs/*.log\n",
    "# fname = fname[0]\n",
    "\n",
    "\n",
    "# Chris Rhodes' repository\n",
    "# Use a preferred way of saving the logs to a file , then set an fname value to load it\n",
    "# fname = /path/to/your/log/file"
   ]
  },
  {
   "cell_type": "markdown",
   "metadata": {},
   "source": [
    "## Load waypoints for the track you want to run analysis on\n",
    "\n",
    "The track waypoint files usually show up as new races start. Be sure to check for them in repository updates. You only need to load them in the block below.\n",
    "\n",
    "These files represent the coordinates of characteristic points of the track - the center line, inside border and outside border. Their main purpose is to visualise the track in images below. One thing that you may want to remember is that at the moment not all functions below work with all values of the coordinates. Especially some look awkward with bigger tracks or with negative coordinates. Usually there is an explanation on what to do to fix the view.\n",
    "\n",
    "The naming of the tracks is not super consistent. I'm also not sure all of them are available in the console or locally. You may want to know that:\n",
    "* London_Loop and Virtual_May19_Train_track - are the AWS DeepRacer Virtual League London Loop tracks\n",
    "* Tokyo - is the AWS DeepRacer Virtual League Kumo Torakku track\n",
    "* New_York - are the AWS DeepRacer Virtual League Empire City training and evaluation tracks\n",
    "* China - are the AWS Deepracer Virtual League Shanghai Sudu training and evaluation tracks\n",
    "* reinvent_base - is the re:Invent 2019 racing track\n",
    "\n",
    "There are also other tracks that you may want to explore. Each of them has its own properties that you might find useful for your model.\n",
    "\n",
    "Remeber that evaluation npy files are a community effort to visualise the tracks in the trainings, they aren't 100% accurate.\n",
    "\n",
    "Tracks Available:"
   ]
  },
  {
   "cell_type": "code",
   "execution_count": 7,
   "metadata": {},
   "outputs": [
    {
     "name": "stdout",
     "output_type": "stream",
     "text": [
      "AWS_track.npy\n",
      "Bowtie_track.npy\n",
      "Canada_Eval.npy\n",
      "Canada_Training.npy\n",
      "China_eval_track.npy\n",
      "China_track.npy\n",
      "H_track.npy\n",
      "London_Loop_Train.npy\n",
      "Mexico_track.npy\n",
      "Mexico_track_eval.npy\n",
      "New_York_Eval_Track.npy\n",
      "New_York_Track.npy\n",
      "Oval_track.npy\n",
      "Straight_track.npy\n",
      "Tokyo_Training_track.npy\n",
      "Virtual_May19_Train_track.npy\n",
      "reinvent_base.npy\n"
     ]
    }
   ],
   "source": [
    "!ls tracks/"
   ]
  },
  {
   "cell_type": "markdown",
   "metadata": {},
   "source": [
    "Take the name from results above and paste below to load the key elements of the track and view the outline of it.\n",
    "\n",
    "If you used auto parameters, there is no need to change this."
   ]
  },
  {
   "cell_type": "code",
   "execution_count": 11,
   "metadata": {},
   "outputs": [
    {
     "name": "stdout",
     "output_type": "stream",
     "text": [
      "Track: Canada_Training (Loaded from autoParams)\n",
      "Loaded 203 waypoints\n"
     ]
    },
    {
     "data": {
      "image/svg+xml": [
       "<svg xmlns=\"http://www.w3.org/2000/svg\" xmlns:xlink=\"http://www.w3.org/1999/xlink\" width=\"100.0\" height=\"100.0\" viewBox=\"0.23665697142698994 -3.4690646909916376 9.463202092003748 6.833635237403504\" preserveAspectRatio=\"xMinYMin meet\"><g transform=\"matrix(1,0,0,-1,0,-0.10449414457977158)\"><path fill-rule=\"evenodd\" fill=\"#ff3333\" stroke=\"#555555\" stroke-width=\"0.18926404184007495\" opacity=\"0.6\" d=\"M 4.630792449080392,1.978843982931711 L 4.51560715501417,2.009007847227224 L 4.400017285630089,2.0376016528476795 L 4.2840988178961545,2.0649043894176 L 4.167981293222032,2.0913084891869853 L 4.05177023398441,2.1171592313985914 L 3.9355274670940306,2.142957883815388 L 3.8194947265799817,2.1699221439787615 L 3.7039836247837297,2.1988827636077697 L 3.589002345751599,2.229538013171088 L 3.474136699047381,2.2608586868065137 L 3.3589208123077983,2.2914759898190518 L 3.2435064382892893,2.3208427969022587 L 3.1293891782260315,2.353784590071773 L 3.0182887148364377,2.3998192581251456 L 2.9139531368785203,2.459849421461508 L 2.814081410439183,2.526808254873681 L 2.715429750959835,2.595041286832938 L 2.616579995520004,2.6628066013273024 L 2.519903106432593,2.7303000032281988 L 2.4223058261031167,2.796532272693306 L 2.3228614975188617,2.8570453985547113 L 2.217114370588808,2.911005179959336 L 2.1073188970166967,2.956568724745319 L 1.992975073743964,2.9894182097862303 L 1.8753455768858194,3.0079772003835172 L 1.7563346896746974,3.0140815800413567 L 1.6376460669085762,3.007526883320716 L 1.5202721396736836,2.987938918169315 L 1.4070126389134725,2.952033739832954 L 1.2976009783669844,2.906046807440649 L 1.1921555395006715,2.8510358350246126 L 1.090738556496132,2.7878419601685884 L 0.9942011203986755,2.7167552858347 L 0.9051439720635708,2.6365466589205 L 0.823681052796169,2.549191596893469 L 0.7519777357123038,2.454869577599272 L 0.6913220944867822,2.353377542352437 L 0.6457363024405426,2.2441477109967916 L 0.6146547931852848,2.12970541985916 L 0.595227037422623,2.0123552314087303 L 0.5871459377974991,1.8933997202668789 L 0.589840825015732,1.7741147749058581 L 0.6050976873271002,1.6559491373490962 L 0.6303455621187355,1.5394430614188288 L 0.6649239535192798,1.4254261739013172 L 0.7074865365134809,1.3144595376069994 L 0.7567505194085741,1.206047087493119 L 0.8108372006882681,1.0998888593489722 L 0.8673678839213097,0.9951056082768804 L 0.9259643625921281,0.8914956129551959 L 0.9868441814893139,0.7891542275827548 L 1.0501879923191149,0.6883270614869126 L 1.1163780754028843,0.5893820777285588 L 1.186059023773686,0.49290430478389236 L 1.2599890220877867,0.3995153972196762 L 1.338590133798921,0.3100420311242443 L 1.4215619716577372,0.22498266375064618 L 1.507986530362971,0.14317216591642717 L 1.5965563167138035,0.06290317833820025 L 1.6859505288751753,-0.015947816330528046 L 1.7752439474530628,-0.09466902823313803 L 1.8635864718586024,-0.17443157609150375 L 1.951772622377015,-0.25424532258359395 L 2.0378573657960164,-0.3353550470799888 L 2.1108877456885664,-0.42651000209203044 L 2.156786352150811,-0.5335268874035934 L 2.1684050210164267,-0.6508757355489814 L 2.174534540590737,-0.7697726473148043 L 2.1870725136378804,-0.8884938072637735 L 2.212107206074826,-1.0049709698072882 L 2.2498664833957935,-1.117430290060422 L 2.298538092388607,-1.2252518222834894 L 2.3565068682699746,-1.3286975136948305 L 2.4207794135612906,-1.4293445736771526 L 2.488665890127296,-1.5270397416449892 L 2.559490644081163,-1.6223047959328727 L 2.6339638087759814,-1.7153027007950514 L 2.7116980280400833,-1.8057748704860395 L 2.7924307835172377,-1.893144269545457 L 2.876753309231053,-1.976935631379238 L 2.9649953395773725,-2.057053570801928 L 3.0563442020988294,-2.133617973115935 L 3.149644788300374,-2.2071854181780144 L 3.244444663916501,-2.279066647591414 L 3.3406569362492644,-2.3499578301414004 L 3.4379092561112925,-2.4193223325809803 L 3.5367821818997722,-2.486582252528459 L 3.6384144751354803,-2.5489318938814858 L 3.7441337201646516,-2.6016540276409055 L 3.8537241024355784,-2.642289567486808 L 3.9664950360882303,-2.668420463919725 L 4.0813581899478875,-2.6785543453789766 L 4.1971373255304405,-2.6711883497845235 L 4.311848574307104,-2.6452698774360086 L 4.4221336553189285,-2.6006676425003197 L 4.526501985550369,-2.54267622522874 L 4.626708184708722,-2.4783113657594686 L 4.727052982175308,-2.4154377104504903 L 4.833513075122692,-2.3629461226199733 L 4.94858613453452,-2.3356726671949395 L 5.06753517109397,-2.336145610047732 L 5.181833927228966,-2.365774572035372 L 5.287750641487477,-2.418477494202865 L 5.390576662722623,-2.4783074520120603 L 5.494848246460073,-2.536535200862235 L 5.600434619744684,-2.591504543785478 L 5.709022398901375,-2.6400859246294934 L 5.821621910127736,-2.6788462911177566 L 5.93719903234676,-2.705307522676488 L 6.054619831875326,-2.7179428335691527 L 6.172609791640513,-2.717716512056369 L 6.290806430809005,-2.7076059298852257 L 6.409318523459765,-2.6938022611249623 L 6.528453824767824,-2.6875340477979575 L 6.64570677846265,-2.706154289645615 L 6.751196138658351,-2.759247616494999 L 6.843807057804666,-2.8319617247593385 L 6.936661229329989,-2.90448414278755 L 7.03608213415291,-2.9683885968421837 L 7.143617304072414,-3.019425437454003 L 7.256002293770532,-3.0586758850676223 L 7.370920519510449,-3.0878641587650075 L 7.48743071080603,-3.1074413229461673 L 7.605261782272316,-3.1176704775736908 L 7.724190363038294,-3.1185757246211283 L 7.84294386230719,-3.110757642895387 L 7.961107076855794,-3.0957618149188644 L 8.078243578902821,-3.073195944655668 L 8.193865861837123,-3.0443543625052367 L 8.306994946050914,-3.0071230074927073 L 8.416532598335401,-2.9599390012693885 L 8.52083339623268,-2.902862791560724 L 8.619149727436806,-2.8362541470834683 L 8.710906339275757,-2.7607646397669248 L 8.794017594832454,-2.6781921351808133 L 8.87309602038027,-2.589945536704885 L 8.948638406875695,-2.497632346439199 L 9.02225019985256,-2.401230385915741 L 9.091052949674186,-2.303248763751941 L 9.153766406138418,-2.202313322107248 L 9.208876551412615,-2.0974268410351664 L 9.254257929947144,-1.9882123288695366 L 9.289506468688836,-1.8751104008023587 L 9.31529470734637,-1.7590489393670938 L 9.333938993081258,-1.6413351399532745 L 9.345251634122809,-1.5227456317285908 L 9.349370097060229,-1.4038206683921308 L 9.345351789863557,-1.284929609548234 L 9.332588933289363,-1.1666464597563377 L 9.310797038962049,-1.0494038011776943 L 9.278259258705287,-0.9344058801599541 L 9.232852791086566,-0.8237921779044893 L 9.17800854430507,-0.7179665783050673 L 9.11367507668244,-0.6181058833458115 L 9.040241487128375,-0.5256724786633096 L 8.956817604302435,-0.4429857982064739 L 8.864568071755585,-0.3712093811115662 L 8.764627648708913,-0.31035785700566676 L 8.657034954129925,-0.2620441393033397 L 8.54292457384632,-0.2285269614183183 L 8.424919122532945,-0.2117621666616347 L 8.306547972355787,-0.21327919780068386 L 8.18929776029851,-0.22562157794238835 L 8.072446410381367,-0.24246195740575235 L 7.954407949404301,-0.25611432542531465 L 7.836012149529921,-0.24745501303286246 L 7.723441671085371,-0.20875073682668688 L 7.619897060931362,-0.14982690289660083 L 7.521144883619921,-0.08296147989814408 L 7.424477486143486,-0.013340199121707287 L 7.329820753257592,0.0645556714867585 L 7.242180754055927,0.14253194519656825 L 7.154939705079071,0.22454903599811474 L 7.089201585096413,0.31734919675898565 L 7.04200290759934,0.42333885958254736 L 7.011037715542037,0.5359695787750735 L 6.980145788186252,0.6495432053719447 L 6.939922622884125,0.7599660106870886 L 6.885497805684329,0.8630833516322785 L 6.8171168155537725,0.9566851008021934 L 6.737541203151933,1.0414113752085399 L 6.649482091835284,1.119011383684716 L 6.5560352485943305,1.1914080809118424 L 6.460307288757619,1.2610056856702443 L 6.361120119922065,1.3252303169260815 L 6.257314187566315,1.3828193769798167 L 6.150881383678055,1.4351518705173765 L 6.043039573258794,1.4866976838269517 L 5.942872879084264,1.5333426650832491 L 5.8393316661839405,1.5814465018628658 L 5.738526295989219,1.6237362672313984 L 5.637135028839111,1.6613520383834839 L 5.637135028839111,1.6613520383834839 L 5.53076702348163,1.698012633916517 L 5.423934640492155,1.7333579303584747 L 5.312543520240615,1.7700496777465264 L 5.2000061955222865,1.8068347487426966 L 5.087319017050481,1.8431524548641889 L 4.973754634221937,1.878965667200519 L 4.8598536322297194,1.9136853465088541 L 4.745543125831826,1.947047407681051 L 4.630792449080392,1.978843982931711 L 4.586464490373379,1.306596680817612 L 4.680799130479161,1.2788531929142186 L 4.774847230099415,1.2501390286825194 L 4.868646770335658,1.2206352449552154 L 4.962262960182316,1.1905483414640654 L 5.055220574480914,1.1602580791572972 L 5.148095216280985,1.1297097281670232 L 5.240061644076103,1.0993558052777064 L 5.328315713890679,1.0702726891746168 L 5.416233062744141,1.0402339696884155 L 5.416233062744141,1.0402339696884155 L 5.50003703486532,1.0093844343115668 L 5.583172462453088,0.9742068940794438 L 5.668849709841069,0.9348611082216751 L 5.751105668523391,0.895371218830422 L 5.839563032282147,0.8515805867812513 L 5.928665058225648,0.8109433935107123 L 6.014905192240596,0.7643948067895947 L 6.096527874008456,0.710929355709983 L 6.175151827701434,0.6528562247530258 L 6.250671166283196,0.5912205390845083 L 6.313759828610206,0.5182263866582805 L 6.358486289903081,0.4336626258591421 L 6.388758461381129,0.34276563787181064 L 6.412864676850089,0.2492591728572645 L 6.438941760331598,0.15566465514287156 L 6.473409898992972,0.0649757213470247 L 6.517212680393041,-0.020746580571151446 L 6.569942121864797,-0.10104050142608167 L 6.6291047479590945,-0.17438974309233893 L 6.696371693176271,-0.2468344707375066 L 6.766102104393885,-0.3139884243862521 L 6.841339003436285,-0.38176933535611784 L 6.914291281379985,-0.44778770848542643 L 6.990472106463707,-0.5101786703429421 L 7.0685589918672855,-0.570212517374534 L 7.1486989779179515,-0.6276587896351029 L 7.230628801992472,-0.6822733969070225 L 7.314380192553387,-0.7334730082704708 L 7.399943531976152,-0.7800951385481373 L 7.487589955645884,-0.8224417969549722 L 7.578417927347751,-0.858592684949933 L 7.672674221004828,-0.8866881987945664 L 7.768830344104602,-0.9065533134634012 L 7.86577594705748,-0.9175206139117468 L 7.962695388778074,-0.9175307280656547 L 8.058489503028001,-0.9053565151575902 L 8.153431739619073,-0.8855071552591302 L 8.249503786951665,-0.8689090275968209 L 8.347425697260084,-0.867676638603192 L 8.441974067631028,-0.8931207136806182 L 8.523783443194066,-0.9477410041996857 L 8.59027794566848,-1.0201999278822842 L 8.63734673822919,-1.1065966776732066 L 8.669398412651118,-1.1993682703220947 L 8.685328680892274,-1.2962879560593124 L 8.69023085442145,-1.3943913889061543 L 8.68640364395067,-1.4926834288474893 L 8.675501689369863,-1.5904685625476276 L 8.65791236699806,-1.6870191971788178 L 8.628806075638462,-1.7803014285634344 L 8.586412191067875,-1.8681940569808007 L 8.534114543651887,-1.9509473971036035 L 8.476958529100923,-2.0307603113601465 L 8.418221388288137,-2.1103296150972337 L 8.355355330566592,-2.188274262857714 L 8.287087055570893,-2.2591783750443337 L 8.210340910607345,-2.3198592377934895 L 8.127570403772248,-2.369584944991837 L 8.036146107120777,-2.404805429584329 L 7.940890670306915,-2.4283481154544835 L 7.84411170854099,-2.445640723887986 L 7.746202037478716,-2.457465478640887 L 7.6479176659290005,-2.461391480116423 L 7.550022721222456,-2.4525549694747895 L 7.454422808390824,-2.4294489556258956 L 7.363581400953364,-2.3924162227550765 L 7.2801359608850635,-2.340895186432356 L 7.200640254740307,-2.2831284093853337 L 7.12180580995413,-2.225331287123142 L 7.041264518769921,-2.170087321645464 L 6.954894003652523,-2.123815826714694 L 6.864505992434448,-2.085598559128301 L 6.771029085994518,-2.0558963650273183 L 6.675430015917719,-2.03604299240785 L 6.57849083762709,-2.0282896394392655 L 6.481345674235003,-2.027964254372063 L 6.383645504610063,-2.0349603847333695 L 6.286046704145249,-2.0485998172112714 L 6.18813110126638,-2.060495057616191 L 6.089836166581626,-2.061277699359732 L 5.993847279440262,-2.0434295697277296 L 5.9032417506921835,-2.0076921844356685 L 5.817042924600127,-1.9617061032792282 L 5.732043719327472,-1.912667849989877 L 5.646733761372447,-1.8634580606344948 L 5.559924352356908,-1.8173696867557745 L 5.471333683646995,-1.7749571759079426 L 5.380264055600457,-1.7370982847488194 L 5.28576549999327,-1.7103146769035185 L 5.190282271259941,-1.6898920274069935 L 5.09343984540193,-1.6762721542835044 L 4.995112884356768,-1.674552483376277 L 4.897057051091761,-1.6789693068707512 L 4.799498842109437,-1.6896572309839055 L 4.7044867844840885,-1.7127838468519747 L 4.610569671649054,-1.7415345163213587 L 4.520352012316932,-1.780996891515027 L 4.4355690716350225,-1.8303435913355783 L 4.35614480320906,-1.8862535209610989 L 4.278121690269616,-1.9422737551125262 L 4.194510989231552,-1.9882817908311594 L 4.10121678003127,-2.0072555348471233 L 4.006488173180878,-1.9921537984568234 L 3.9185441264695737,-1.950932880646829 L 3.837451054592985,-1.8951918252550572 L 3.757503260394463,-1.8372040014223263 L 3.6776279960978187,-1.7793200906057927 L 3.598604996658493,-1.720202696461683 L 3.520692367935007,-1.6603607684867498 L 3.4441642128532757,-1.5989663016497135 L 3.3695483437834493,-1.5347878209728065 L 3.2980385744896497,-1.4671768817499211 L 3.230196191459332,-1.3962228036823634 L 3.1651987763114087,-1.3225582633854862 L 3.1026046480152725,-1.2465073996483982 L 3.042978199267464,-1.168253928110665 L 2.98628762839247,-1.0882747849843173 L 2.931312350364526,-1.0068494776427899 L 2.882726239726432,-0.9211728578757983 L 2.848100031520036,-0.8296261883888253 L 2.8307920315342767,-0.7333950977528141 L 2.821997531107068,-0.6357347775820007 L 2.81448028429616,-0.5376038596294238 L 2.802399724599279,-0.4397799117983332 L 2.7844011823012917,-0.3432931151459937 L 2.7588360564784624,-0.24922211693550697 L 2.7200139457753076,-0.16080356184476294 L 2.6730136478465103,-0.0764530867122797 L 2.61780918626917,0.0039991412637259 L 2.5529990133286278,0.07780125256452504 L 2.484077838715222,0.14781888065171148 L 2.4131513368697495,0.21587153617963148 L 2.34094299389929,0.282764807537875 L 2.2677871251652846,0.3490326528733037 L 2.1949058116536895,0.4149579296889032 L 2.1211146777068177,0.4796493887260105 L 2.0472958137694883,0.5446774898567169 L 1.9742031006889442,0.61053391527483 L 1.9022573783370444,0.6775046482959516 L 1.8325260963987438,0.7467912533848432 L 1.767100709479712,0.820165773246839 L 1.7063291770397016,0.8974596276629432 L 1.6493309168709767,0.9775372268897509 L 1.595209899152814,1.0596168756549587 L 1.5432334522189577,1.143154393374666 L 1.493181864193311,1.2278229873659627 L 1.4449428644406326,1.31337797313305 L 1.398114965442651,1.4000361769164624 L 1.3528538661576182,1.487549422376491 L 1.3108654075518997,1.5765081319074343 L 1.2777596584174526,1.6692414644863083 L 1.255996392987672,1.7652796618732673 L 1.247143795080498,1.8632145016641914 L 1.2529442270739088,1.9609692031889399 L 1.2807897149103025,2.054038631164142 L 1.3360758184248,2.1341358682695857 L 1.4078100061135643,2.2007841745799612 L 1.488365088702382,2.257898974886875 L 1.5735151081600884,2.308287360156491 L 1.6657607263777265,2.3435347483384703 L 1.7631569695099996,2.356752686954258 L 1.860314904514092,2.3436745272847066 L 1.9519827764401072,2.3094658238813484 L 2.037038352238225,2.260666313520141 L 2.118746297320381,2.2060937005472354 L 2.199308187797101,2.1496034224848675 L 2.2803699795758985,2.0933475632200964 L 2.3617723885909077,2.037953661519083 L 2.4428209838071093,1.982432453946878 L 2.5246678381841376,1.9280572948948131 L 2.6078205884811574,1.875927969797336 L 2.69087345348414,1.8274380639594527 L 2.778568228855,1.7850327865676658 L 2.8686863454823754,1.7483754864298824 L 2.9622229018746378,1.7162176820077535 L 3.0572499458286315,1.6883078873576562 L 3.153400295816107,1.6635030859526752 L 3.2496819902386367,1.638343595060353 L 3.345631651646086,1.6122992895088017 L 3.4402814057623834,1.5864883341278204 L 3.5353476075199612,1.561311877362448 L 3.63078889489781,1.5371861923456316 L 3.726400764514447,1.5142948387074615 L 3.8222164175271427,1.492485135246249 L 3.9182285164049526,1.4712096054880754 L 4.014259773866057,1.44987737783297 L 4.110168107920364,1.4282044645416023 L 4.205924703115308,1.4059427204112744 L 4.301505261372165,1.3828311728282585 L 4.3968202000469,1.3586186669517355 L 4.491810421578495,1.3332132699266936 L 4.586464490373379,1.306596680817612 L 4.630792449080392,1.978843982931711 z\" /></g></svg>"
      ],
      "text/plain": [
       "<shapely.geometry.polygon.Polygon at 0x1c713abd358>"
      ]
     },
     "execution_count": 11,
     "metadata": {},
     "output_type": "execute_result"
    }
   ],
   "source": [
    "if not autoParams:\n",
    "    track = \"reinvent_base\"\n",
    "    print(\"Track: {}\".format(track))\n",
    "else:\n",
    "    track = autoParams['track']\n",
    "    print(\"Track: {} (Loaded from autoParams)\".format(track))\n",
    "l_center_line, l_inner_border, l_outer_border, road_poly = tu.load_track(track)\n",
    "\n",
    "road_poly"
   ]
  },
  {
   "cell_type": "markdown",
   "metadata": {},
   "source": [
    "## Load the trace training log\n",
    "\n",
    "Now that the data is downloaded, we need to load it into memory. We will first read it from file and then convert to data frames in Pandas. [Pandas](https://pandas.pydata.org/) is a Python library for handling and analysing large amounts of data series. Remember this name, you may want to learn more about how to use it to get more information that you would like to get from the logs. Examples below are hardly scratching the surface.\n",
    "\n",
    "One important information to enter is the setting of your Episodes per iteration hyperparameter. This is used to group the episodes into iterations. This information is valuable when later looking at graphs showing how the training progresses per iteration. You can use it to detect which iteration gave you better outcomes and, if in local training, you could move to that iteration's outcome for submissions in the AWS DeepRacer League or  for continuing the training.\n",
    "\n",
    "The log files you have just gathered above have lines like this one:\n",
    "```\n",
    "SIM_TRACE_LOG:799,111,1.7594,4.4353,3.0875,-0.26,2.50,2,1.0000,False,True,71.5802,49,17.67,1555554451.1110387\n",
    "```\n",
    "This is all that matters for us. The first two are some tests I believe and when loading they get skipped, then each next line has the following fields:\n",
    "* episode number\n",
    "* step number\n",
    "* x coordinate\n",
    "* y coordinate\n",
    "* yaw of the car (where the car is heading)\n",
    "* decision about turning (turn value from your action space)\n",
    "* decision about throttle (speed value from your action space)\n",
    "* decision index (value from your action space)\n",
    "* reward value\n",
    "* is the car going backwards\n",
    "* are all wheels on track?\n",
    "* progress in the lap\n",
    "* closest waypoint\n",
    "* track length\n",
    "* timestamp\n",
    "\n",
    "`la.load_data` and then `la.convert_to_pandas` read it and prepare for your usage. Sorting the values may not be needed, but I have experienced under some circumstances that the log lines were not ordered properly."
   ]
  },
  {
   "cell_type": "code",
   "execution_count": 12,
   "metadata": {},
   "outputs": [
    {
     "name": "stdout",
     "output_type": "stream",
     "text": [
      "EPISODES_PER_ITERATION set to 20 from autoParams\n"
     ]
    }
   ],
   "source": [
    "EPISODES_PER_ITERATION = 20 #  Set to value of your hyperparameter in training\n",
    "if autoParams:\n",
    "    EPISODES_PER_ITERATION = autoParams['hyperParameters']['num_episodes_between_training']\n",
    "    print(\"EPISODES_PER_ITERATION set to {} from autoParams\".format(EPISODES_PER_ITERATION))\n",
    "    \n",
    "data = la.load_data(fname)\n",
    "df = la.convert_to_pandas(data, episodes_per_iteration=EPISODES_PER_ITERATION)\n",
    "\n",
    "df = df.sort_values(['episode', 'steps'])\n",
    "# personally I think normalizing can mask too high rewards so I am commenting it out,\n",
    "# but you might want it.\n",
    "# la.normalize_rewards(df)\n",
    "\n",
    "#Uncomment the line of code below to evaluate a different reward function\n",
    "#la.new_reward(df, l_center_line, 'reward.reward_sample') #, verbose=True)"
   ]
  },
  {
   "cell_type": "markdown",
   "metadata": {},
   "source": [
    "## New reward\n",
    "\n",
    "Note the last line above: it takes a reward class from log-analysis/rewards, imports it, instantiates and recalculates reward values based on the data from the log. This lets you do some testing before you start training and rule out some obvious things.\n",
    "\n",
    "*If you find this confusing, don't worry, because it is confusing. You can safely ignore it for now and come back to it later.*\n",
    "\n",
    "This operation is possible because the logs contain all information needed to recreate the params for a given step. That said some could be implemented better and some were ignored for now and should be implemented.\n",
    "\n",
    "The sample reward mentioned in that line is located in `log-analysis/rewards/reward_sample.py` and looks like this:\n",
    "\n",
    "```\n",
    "from time import time\n",
    "\n",
    "\n",
    "class Reward:\n",
    "    def __init__(self, verbose=False):\n",
    "        self.previous_steps = None\n",
    "        self.initial_time = None\n",
    "        self.verbose = verbose\n",
    "\n",
    "    @staticmethod\n",
    "    def get_time(params):\n",
    "        # remember: this will not return time before\n",
    "        # the first step has completed so the total\n",
    "        # time for lap will be lower by about 0.2s\n",
    "        return params.get('timestamp', None) or time()\n",
    "\n",
    "    def reward_function(self, params):\n",
    "        if self.previous_steps is None \\\n",
    "                or self.previous_steps > params['steps']:\n",
    "            # new lap!\n",
    "            self.initial_time = self.get_time(params)\n",
    "        else:\n",
    "            # we're continuing a lap\n",
    "            pass\n",
    "\n",
    "        steering_factor = 1.0\n",
    "\n",
    "        if abs(params['steering_angle']) > 14:\n",
    "            steering_factor = 0.7\n",
    "\n",
    "        reward = float(steering_factor)\n",
    "\n",
    "        self.previous_steps = params['steps']\n",
    "\n",
    "        if self.verbose:\n",
    "            print(params)\n",
    "\n",
    "        return reward\n",
    "\n",
    "\n",
    "reward_object = Reward()\n",
    "\n",
    "\n",
    "def reward_function(params):\n",
    "    return reward_object.reward_function(params)\n",
    "\n",
    "```\n",
    "\n",
    "After some imports a class is declared, it's called `Reward`, then the class is instantiated and a function `reward_function` is declared. This somewhat bloated structure has a couple benefits:\n",
    "* It works in console/local training for actual training\n",
    "* It lets you reload the definition for class Reward and retry the reward function multiple times after changes without much effort\n",
    "* If you want to rely on state carried over between the steps, it's all contained in a reward object \n",
    "\n",
    "The reward class hides two or three tricks for you:\n",
    "* `get_time` lets you abstract from machine time in log analysis - the supporting code adds one extra param, `timestamp`. That lets you get the right time value in new_reward function\n",
    "* the first condition allows detecting the beginning of an episode or even start of training you can use it for some extra operations between the episodes\n",
    "* `verbose` can be used to provide some noisier prints in the reward function - you can switch them on when loading the reward function above.\n",
    "\n",
    "Just remember: not all params are provided, you are free to implement them and raise a Pull Request for log_analysis.df_to_params method.\n",
    "\n",
    "If you just wrap your reward function like in the above example, you can use it in both log analysis notebook and the training.\n",
    "\n",
    "Final warning: there is a loss of precision in the logs (rounded numbers) and also potentially potential bugs. If you find any, please fix, please report.\n",
    "\n",
    "## Graphs\n",
    "\n",
    "The original notebook has provided some great ideas on what could be visualised in the graphs. Below examples are a slightly extended version. Let's have a look at what they are presenting and what this may mean to your training.\n",
    "\n",
    "### Training progress\n",
    "\n",
    "As you have possibly noticed by now, training episodes are grouped into iterations and this notebook also reflects it. What also marks it are checkpoints in the training. After each iteration a set of ckpt files is generated - they contain outcomes of the training, then a model.pb file is built based on that and the car begins a new iteration. Looking at the data grouped by iterations may lead you to a conclusion, that some earlier checkpoint would be a better start for a new training. While this is limited in the AWS DeepRacer Console, with enough disk space you can keep all the checkpoints along the way and use one of them as a start for new training (or even as a submission to a race).\n",
    "\n",
    "While the episodes in a given iteration are a mixture of decision process and random guesses, mean results per iteration may show a specific trend. Mean values are accompanied by standard deviation to show the concentration of values around the mean.\n",
    "\n",
    "#### Rewards per Iteration\n",
    "\n",
    "You can see these values as lines or dots per episode in the AWS DeepRacer console. When the reward goes up, this suggests that a car is learning and improving with regards to a given reward function. **This does not have to be a good thing.** If your reward function rewards something that harms performance, your car will learn to drive in a way that will make results worse.\n",
    "\n",
    "At first the rewards just grow if the progress achieved grows. Interesting things may happen slightly later in the training:\n",
    "\n",
    "* The reward may go flat at some level - it might mean that the car can't get any better. If you think you could still squeeze something better out of it, review the car's progress and consider updating the reward function, the action space, maybe hyperparameters, or perhaps starting over (either from scratch or from some previous checkpoint)\n",
    "* The reward may become wobbly - here you will see it as a mesh of dots zig-zagging. It can be a gradually growing zig-zag or a roughly stagnated one. This usually means the learning rate hyperparameter is too high and the car started doing actions that oscilate around some local extreme. You can lower the learning rate and hope to step closer to the extreme. Or run away from it if you don't like it\n",
    "* The reward plunges to near zero and stays roughly flat - I only had that when I messed up the hyperparameters or the reward function. Review recent changes and start training over or consider starting from scratch\n",
    "\n",
    "The Standard deviation says how close from each other the reward values per episode in a given iteration are. If your model becomes reasonably stable and worst performances become better, at some point the standard deviation may flat out or even decrease. That said, higher speeds usually mean there will be areas on track with higher risk of failure. This may bring the value of standard deviation to a higher value and regardless of whether you like it or not, you need to accept it as a part of fighting for significantly better times.\n",
    "\n",
    "#### Time per iteration\n",
    "\n",
    "I'm not sure how useful this graph is. I would worry if it looked very similar to the reward graph - this could suggest that slower laps will be getting higher rewards. But there is a better graph for spotting that below.\n",
    "\n",
    "#### Progress per Iteration\n",
    "\n",
    "This graph usually starts low and grows and at some point it will get flatter. The maximum value for progress is 100% so it cannot grow without limits. It usually shows similar initial behaviours to reward and time graphs. I usually look at it when I alter an action in training. In such cases this graph usually dips a bit and then returns or goes higher.\n",
    "\n",
    "#### Total reward per episode\n",
    "\n",
    "This graph has been taken from the orignal notebook and can show progress on certain groups of behaviours. It usually forms something like a triangle, sometimes you can see a clear line of progress that shows some new way has been first taught and then perfected.\n",
    "\n",
    "#### Mean completed lap times per iteration\n",
    "\n",
    "Once we have a model that completes laps reasonably often, we might want to know how fast the car gets around the track. This graph will show you that. I use it quite often when looking for a model to shave a couple more miliseconds. That said it has to go in pair with the last one:\n",
    "\n",
    "#### Completion rate per iteration\n",
    "\n",
    "It represents how big part of all episodes in an iteration is full laps. The value is from range [0, 1] and is a result of deviding amount of full laps in iteration by amount of all episodes in iteration. I say it has to go in pair with the previous one because you not only need a fast lapper, you also want a race completer.\n",
    "\n",
    "The higher the value, the more stable the model is on a given track."
   ]
  },
  {
   "cell_type": "code",
   "execution_count": 13,
   "metadata": {
    "scrolled": false
   },
   "outputs": [
    {
     "name": "stderr",
     "output_type": "stream",
     "text": [
      "c:\\users\\tfrancis\\myenv\\lib\\site-packages\\numpy\\core\\fromnumeric.py:2495: FutureWarning: Method .ptp is deprecated and will be removed in a future version. Use numpy.ptp instead.\n",
      "  return ptp(axis=axis, out=out, **kwargs)\n"
     ]
    },
    {
     "name": "stdout",
     "output_type": "stream",
     "text": [
      "new reward not found, using reward as its values\n",
      "Number of episodes =  305\n",
      "Number of iterations =  16\n"
     ]
    },
    {
     "data": {
      "image/png": "[encoded data removed]",
      "text/plain": [
       "<Figure size 1080x1080 with 9 Axes>"
      ]
     },
     "metadata": {
      "needs_background": "light"
     },
     "output_type": "display_data"
    },
    {
     "data": {
      "text/plain": [
       "<Figure size 432x288 with 0 Axes>"
      ]
     },
     "metadata": {},
     "output_type": "display_data"
    }
   ],
   "source": [
    "simulation_agg = la.simulation_agg(df)\n",
    "\n",
    "la.analyze_training_progress(simulation_agg, title='Training progress')"
   ]
  },
  {
   "cell_type": "markdown",
   "metadata": {},
   "source": [
    "### Stats for all laps\n",
    "\n",
    "Previous graphs were mainly focused on the state of training with regards to training progress. This however will not give you a lot of information about how well your reward function is doing overall.\n",
    "\n",
    "In such case `scatter_aggregates` may come handy. It comes with three types of graphs:\n",
    "* progress/steps/reward depending on the time of an episode - of this I find reward/time and new_reward/time especially useful to see that I am rewarding good behaviours - I expect the reward to time scatter to look roughly triangular\n",
    "* histograms of time and progress - for all episodes the progress one is usually quite handy to get an idea of model's stability\n",
    "* progress/time_if_complete/reward to closest waypoint at start - these are really useful during training as they show potentially problematic spots on track. It can turn out that a car gets best reward (and performance) starting at a point that just cannot be reached if the car starts elsewhere, or that there is a section of a track that the car struggles to get past and perhaps it's caused by an aggressive action space or undesirable behaviour prior to that place\n",
    "\n",
    "Side note: `time_if_complete` is not very accurate and will almost always look better for episodes closer to 100% progress than in case of those 50% and below."
   ]
  },
  {
   "cell_type": "code",
   "execution_count": null,
   "metadata": {
    "scrolled": false
   },
   "outputs": [],
   "source": [
    "# This gives the warning about ptp method deprecation. The code looks as if np.ptp was used, I don't know how to fix it.\n",
    "la.scatter_aggregates(simulation_agg, 'Stats for all laps')"
   ]
  },
  {
   "cell_type": "markdown",
   "metadata": {},
   "source": [
    "### Stats for complete laps\n",
    "The graphs here are same as above, but now I am interested in other type of information:\n",
    "* does the reward scatter show higher rewards for lower completion times? If I give higher reward for a slower lap it might suggest that I am training the car to go slow\n",
    "* what does the time histogram look like? With enough samples available the histogram takes a normal distribution graph shape. The lower the mean value, the better the chance to complete a fast lap consistently. The longer the tails, the greater the chance of getting lucky in submissions\n",
    "* is the car completing laps around the place where the race lap starts? Or does it only succeed if it starts in a place different to the racing one?"
   ]
  },
  {
   "cell_type": "code",
   "execution_count": null,
   "metadata": {
    "scrolled": false
   },
   "outputs": [],
   "source": [
    "complete_ones = simulation_agg[simulation_agg['progress']==100]\n",
    "\n",
    "if complete_ones.shape[0] > 0:\n",
    "    la.scatter_aggregates(complete_ones, 'Stats for complete laps')\n",
    "else:\n",
    "    print('No complete laps yet.')"
   ]
  },
  {
   "cell_type": "markdown",
   "metadata": {},
   "source": [
    "### Categories analysis\n",
    "We're going back to comparing training results based on the training time, but in a different way. Instead of just scattering things in relation to iteration or episode number, this time we're grouping episodes based on a certaing information. For this we use function:\n",
    "```\n",
    "analyze_categories(panda, category='quintile', groupcount=5, title=None)\n",
    "```\n",
    "The idea is pretty simple - determine a way to cluster the data and provide that as the `category` parameter (alongside the count of groups available). In the default case we take advantage of the aggregated information to which quintile an episode belongs and thus build buckets each containing 20% of episodes which happened around the same time during the training. If your training lasted for five hours, this would show results grouped per each hour.\n",
    "\n",
    "A side note: if you run the function with `category='start_at'` and `groupcount=20` you will get results based on the waypoint closest to the starting point of an episode. If you need to, you can introduce other types of categories and reuse the function.\n",
    "\n",
    "The graphs are similar to what we've seen above. I especially like the progress one which shows where the model tends to struggle and whether it's successful laps rate is improving or beginning to decrease. Interestingly, I also had cases where I saw the completion drop on the progress rate only to improve in a later quintile, but with a better time graph.\n",
    "\n",
    "A second side note: if you run this function for `complete_ones` instead of `simulation_agg`, suddenly the time histogram becomes more interesting as you can see whether completion times improve."
   ]
  },
  {
   "cell_type": "code",
   "execution_count": null,
   "metadata": {
    "scrolled": false
   },
   "outputs": [],
   "source": [
    "la.analyze_categories(simulation_agg, title='Quintiles')"
   ]
  },
  {
   "cell_type": "markdown",
   "metadata": {},
   "source": [
    "## Data in tables\n",
    "\n",
    "While a lot can be seen in graphs that cannot be seen in the raw numbers, the numbers let us get into more detail. Below you will find a couple examples. If your model is behaving the way you would like it to, below tables may provide little added value, but if you struggle to improve your car's performance, they may come handy. In such cases I look for examples where high reward is giving to below-expected episode and when good episodes are given low reward.\n",
    "\n",
    "You can then take the episode number and scatter it below, and also look at reward given per step - this can in turn draw your attention to some rewarding anomalies and help you detect some unexpected outcomes in your reward function.\n",
    "\n",
    "There is a number of ways to select the data for display:\n",
    "* `nlargest`/`nsmallest` lets you display information based on a specific value being highest or lowest\n",
    "* filtering based on a field value, for instance `df[df['episode']==10]` will display only those steps in `df` which belong to episode 10\n",
    "* `head()` lets you peek into a dataframe\n",
    "\n",
    "There isn't a right set of tables to display here and the ones below may not suit your needs. Get to know Pandas more and have fun with them. It's almost as addictive as DeepRacer itself.\n",
    "\n",
    "The examples have a short comment next to them explaining what they are showing."
   ]
  },
  {
   "cell_type": "code",
   "execution_count": null,
   "metadata": {},
   "outputs": [],
   "source": [
    "# View ten best rewarded episodes in the training\n",
    "simulation_agg.nlargest(10, 'new_reward')"
   ]
  },
  {
   "cell_type": "code",
   "execution_count": null,
   "metadata": {},
   "outputs": [],
   "source": [
    "# View five fastest complete laps\n",
    "complete_ones.nsmallest(5, 'time')"
   ]
  },
  {
   "cell_type": "code",
   "execution_count": null,
   "metadata": {},
   "outputs": [],
   "source": [
    "# View five best rewarded completed laps\n",
    "complete_ones.nlargest(5, 'reward')"
   ]
  },
  {
   "cell_type": "code",
   "execution_count": null,
   "metadata": {
    "scrolled": true
   },
   "outputs": [],
   "source": [
    "# View five best rewarded in completed laps (according to new_reward if you are using it)\n",
    "complete_ones.nlargest(5, 'new_reward')"
   ]
  },
  {
   "cell_type": "code",
   "execution_count": null,
   "metadata": {},
   "outputs": [],
   "source": [
    "# View five most progressed episodes\n",
    "simulation_agg.nlargest(5, 'progress')"
   ]
  },
  {
   "cell_type": "code",
   "execution_count": null,
   "metadata": {
    "scrolled": true
   },
   "outputs": [],
   "source": [
    "# View information for a couple first episodes\n",
    "simulation_agg.head()"
   ]
  },
  {
   "cell_type": "code",
   "execution_count": null,
   "metadata": {
    "scrolled": true
   },
   "outputs": [],
   "source": [
    "# Set maximum quantity of rows to view for a dataframe display - without that\n",
    "# the view below will just hide some of the steps\n",
    "pd.set_option('display.max_rows', 500)\n",
    "\n",
    "# View all steps data for episode 10\n",
    "df[df['episode']==10]"
   ]
  },
  {
   "cell_type": "markdown",
   "metadata": {},
   "source": [
    "## Analyze the reward distribution for your reward function"
   ]
  },
  {
   "cell_type": "code",
   "execution_count": null,
   "metadata": {},
   "outputs": [],
   "source": [
    "# This shows a histogram of actions per closest waypoint for episode 771.\n",
    "# Will let you spot potentially problematic places in reward granting.\n",
    "# In this example reward function is clearly `return 1`. It may be worrying\n",
    "# if your reward function has some logic in it.\n",
    "# If you have a final step reward that makes the rest of this histogram\n",
    "# unreadable, you can filter the last step out by using\n",
    "# `episode[:-1].plot.bar` instead of `episode.plot.bar`\n",
    "episode = df[df['episode']==7]\n",
    "episode.plot.bar(x='closest_waypoint', y='reward')"
   ]
  },
  {
   "cell_type": "markdown",
   "metadata": {},
   "source": [
    "### Path taken for top reward iterations\n",
    "\n",
    "NOTE: at some point in a single episode the car could go around multiple laps, the episode was terminated when car completed 1000 steps. Currently one episode has at most one lap. This explains why you can see multiple laps in an episode plotted below.\n",
    "\n",
    "Being able to plot the car's route in an episode can help you detect certain patterns in its behaviours and either promote them more or train away from them. While being able to watch the car go in the training gives some information, being able to reproduce it after the training is much more practical.\n",
    "\n",
    "Graphs below give you a chance to look deeper into your car's behaviour on track."
   ]
  },
  {
   "cell_type": "code",
   "execution_count": null,
   "metadata": {
    "scrolled": false
   },
   "outputs": [],
   "source": [
    "# Fetch information about the car's episodes and plot some of them\n",
    "action_map, episode_map, sorted_idx = la.episode_parser(data)\n",
    "\n",
    "# There is a trick that lets you view top episodes based on different criteria\n",
    "# than the ones returned from the `episode_parser` function. Some examples:\n",
    "# highest reward for complete laps:\n",
    "# sorted_idx = list(complete_ones.nlargest(3,'reward')['episode'])\n",
    "# highest progress from all episodes:\n",
    "# sorted_idx = list(simulation_agg.nlargest(3,'progress')['episode'])\n",
    "\n",
    "fig = la.plot_top_laps(sorted_idx[:],  episode_map, l_center_line, l_inner_border, l_outer_border, 3)"
   ]
  },
  {
   "cell_type": "markdown",
   "metadata": {},
   "source": [
    "### Plot a heatmap of rewards for current training. \n",
    "The brighter the colour, the higher the reward granted in given coordinates.\n",
    "If instead of a similar view as in the example below you get a dark image with hardly any \n",
    "dots, it might be that your rewards are highly disproportionate and possibly sparse.\n",
    "\n",
    "Disproportion means you may have one reward of 10.000 and the rest in range 0.01-1.\n",
    "In such cases the vast majority of dots will simply be very dark and the only bright dot\n",
    "might be in a place difficult to spot. I recommend you go back to the tables and show highest\n",
    "and average rewards per step to confirm if this is the case. Such disproportions may\n",
    "not affect your traning very negatively, but they will make the data less readable in this notebook.\n",
    "\n",
    "Sparse data means that the car gets a high reward for the best behaviour and very low reward\n",
    "for anything else, and worse even, reward is pretty much discrete (return 10 for narrow perfect,\n",
    "else return 0.1). The car relies on reward varying between behaviours to find gradients that can\n",
    "lead to improvement. If that is missing, the model will struggle to improve."
   ]
  },
  {
   "cell_type": "code",
   "execution_count": null,
   "metadata": {},
   "outputs": [],
   "source": [
    "# Some tracks have negative coordinates for which `la.plot_track` is not ready. It has been improved\n",
    "# using RichardFan's modification to offer an x_shift and y_shift parameters. They may require\n",
    "# different values for other tracks. You will then need to change it in the future. Simply add parameters:\n",
    "# track_size=(700,1000), y_shift=300 to this method\n",
    "track = la.plot_track(df, l_center_line, l_inner_border, l_outer_border)\n",
    "\n",
    "\n",
    "plt.title(\"Reward distribution for all actions \")\n",
    "im = plt.imshow(track, cmap='hot', interpolation='bilinear', origin=\"lower\") "
   ]
  },
  {
   "cell_type": "markdown",
   "metadata": {},
   "source": [
    "### Plot a particular iteration\n",
    "This is same as the heatmap above, but just for a single iteration."
   ]
  },
  {
   "cell_type": "code",
   "execution_count": null,
   "metadata": {},
   "outputs": [],
   "source": [
    "iteration_id = 3\n",
    "track = la.plot_track(df[df['iteration'] == iteration_id], l_center_line, l_inner_border, l_outer_border)\n",
    "plt.title(\"Reward distribution for all actions \")\n",
    "im = plt.imshow(track, cmap='hot', interpolation='bilinear', origin=\"lower\") "
   ]
  },
  {
   "cell_type": "markdown",
   "metadata": {},
   "source": [
    "### Path taken in a particular episode"
   ]
  },
  {
   "cell_type": "code",
   "execution_count": null,
   "metadata": {},
   "outputs": [],
   "source": [
    "## Evaluation RUN\n",
    "def plot_episode_run(df, E, center_line, inner_border, outer_border):\n",
    "    fig = plt.figure(1, figsize=(12, 16))\n",
    "    ax = fig.add_subplot(211)\n",
    "    la.print_border(ax, center_line, inner_border, outer_border) \n",
    "    episode_data = df[df['episode'] == E]\n",
    "    for row in episode_data.iterrows():\n",
    "        x1,y1,action,reward = row[1]['x'], row[1]['y'], row[1]['action'], row[1]['reward']\n",
    "        car_x2, car_y2 = x1 - 0.02, y1\n",
    "        plt.plot([x1, car_x2], [y1, car_y2], 'r.')"
   ]
  },
  {
   "cell_type": "code",
   "execution_count": null,
   "metadata": {},
   "outputs": [],
   "source": [
    "plot_episode_run(df, 122, l_center_line, l_inner_border, l_outer_border) # arbitrary episode"
   ]
  },
  {
   "cell_type": "markdown",
   "metadata": {},
   "source": [
    "### Path taken in a particular Iteration"
   ]
  },
  {
   "cell_type": "code",
   "execution_count": null,
   "metadata": {
    "scrolled": false
   },
   "outputs": [],
   "source": [
    "iteration_id = 10\n",
    "\n",
    "for i in range((iteration_id-1)*EPISODES_PER_ITERATION, (iteration_id)*EPISODES_PER_ITERATION):\n",
    "    plot_episode_run(df, i, l_center_line, l_inner_border, l_outer_border)"
   ]
  },
  {
   "cell_type": "markdown",
   "metadata": {},
   "source": [
    "# Bulk training load\n",
    "\n",
    "This is some slow and heavy stuff. You can download all logs from CloudWatch (or part of them if you play with `not_older_than` and `older_than` parameters that take a string representation of a date in ISO format, for instance `DD-MM-YYYY` works).\n",
    "\n",
    "The basic assumption in code below is that you may want to group logs by folders, so either remove `SELECT_YOUR_SUBFOLDER/training/` from the call or set up your own folder and point to it.\n",
    "\n",
    "Since it can be a lot of downloading, it is commented out in here to avoid accidental runs.\n",
    "\n",
    "Files downloaded once will not be downloaded again unless you add `force=True`."
   ]
  },
  {
   "cell_type": "code",
   "execution_count": null,
   "metadata": {},
   "outputs": [],
   "source": [
    "#logs = cw.download_all_logs('logs/SELECT_YOUR_SUBFOLDER/training/deepracer-', '/aws/robomaker/SimulationJobs')"
   ]
  },
  {
   "cell_type": "markdown",
   "metadata": {},
   "source": [
    "Load every log from a folder. Every single one. This is a lot of data. If you want to save yourself some time later, below you have code to save and load all that with use of pickle.\n",
    "\n",
    "Same comment applies to `SELECT_YOUR_SUBFOLDER/training/` - point it at a location that you're interested in.\n",
    "\n",
    "Alternatively, `logs` returned from `download_all_logs` is a list of tuples in which first element is a path to a downloaded log file (even if it already exists, but would've been donwloaded if `force=True`), so you can use that to load logs in bulk."
   ]
  },
  {
   "cell_type": "code",
   "execution_count": null,
   "metadata": {},
   "outputs": [],
   "source": [
    "import os\n",
    "\n",
    "base_folder = 'logs/SELECT_YOUR_SUBFOLDER/training'\n",
    "df_list = list()\n",
    "big_training_panda = None\n",
    "for stream in os.listdir(base_folder):\n",
    "    data = la.load_data('%s/%s' % (base_folder, stream))\n",
    "    df = la.convert_to_pandas(data)\n",
    "    df['stream'] = stream[10:]\n",
    "    if big_training_panda is not None:\n",
    "        big_training_panda = big_training_panda.append(df)\n",
    "    else:\n",
    "        big_training_panda = df\n"
   ]
  },
  {
   "cell_type": "code",
   "execution_count": null,
   "metadata": {},
   "outputs": [],
   "source": [
    "# Have I mentioned a lot of data? This stores the data preprocessed for time savings\n",
    "big_training_panda.to_pickle('bulk_training_set.pickle')"
   ]
  },
  {
   "cell_type": "code",
   "execution_count": null,
   "metadata": {},
   "outputs": [],
   "source": [
    "from pandas import read_pickle\n",
    "\n",
    "big_training_panda = read_pickle('bulk_training_set.pickle')"
   ]
  },
  {
   "cell_type": "code",
   "execution_count": null,
   "metadata": {},
   "outputs": [],
   "source": [
    "# as usual, handle with care. Towards the end of the May race I needed 30-45 minutes to recalculate the reward.\n",
    "#la.new_reward(big_training_panda, l_center_line, 'reward.reward_sample')"
   ]
  },
  {
   "cell_type": "code",
   "execution_count": null,
   "metadata": {
    "scrolled": false
   },
   "outputs": [],
   "source": [
    "# Below code is using stream name as part of grouping since otherwise there would be episode number collisions\n",
    "big_simulation_agg = la.simulation_agg(big_training_panda, 'stream')\n",
    "\n",
    "big_complete_ones = big_simulation_agg[big_simulation_agg['progress']==100]"
   ]
  },
  {
   "cell_type": "code",
   "execution_count": null,
   "metadata": {},
   "outputs": [],
   "source": [
    "grouped = big_simulation_agg.groupby(['stream'])\n",
    "\n",
    "for name, group in grouped:\n",
    "    la.scatter_aggregates(group, title=name)"
   ]
  },
  {
   "cell_type": "markdown",
   "metadata": {},
   "source": [
    "By the end of London Loop I had so much noise and random tries that wanted to find the most promising version of my model to submit. I used the below piece of code to iterate through all the stream values to detect the one with most promising times histogram. I should've added progress as well since the fastest ones hardly ever completed a lap. I will leave adding that as an exercise for the reader."
   ]
  },
  {
   "cell_type": "code",
   "execution_count": null,
   "metadata": {
    "scrolled": true
   },
   "outputs": [],
   "source": [
    "values = []\n",
    "show = []\n",
    "show_above = -1\n",
    "i = 0\n",
    "for value in big_complete_ones.stream.values:\n",
    "    if value in values:\n",
    "        continue\n",
    "    values.append(value)\n",
    "    if i in show or i > show_above:\n",
    "        print(value)\n",
    "        big_complete_ones[big_complete_ones['stream']==value].hist(column=['time'], bins=20)\n",
    "    i += 1"
   ]
  },
  {
   "cell_type": "code",
   "execution_count": null,
   "metadata": {},
   "outputs": [],
   "source": [
    "# display loads of everything\n",
    "big_simulation_agg"
   ]
  },
  {
   "cell_type": "markdown",
   "metadata": {},
   "source": [
    "# Action breakdown per iteration and historgram for action distribution for each of the turns - reinvent track\n",
    "\n",
    "This plot is useful to understand the actions that the model takes for any given iteration. Unfortunately at this time it is not fit for purpose as it assumes six actions in the action space and has other issues. It will require some work to get it to done but the information it returns will be very valuable.\n",
    "\n",
    "This is a bit of an attempt to abstract away from the brilliant function in the original notebook towards a more general graph that we could use. It should be treated as a work in progress. The track_breakdown could be used as a starting point for a general track information object to handle all the customisations needed in methods of this notebook.\n",
    "\n",
    "A breakdown track data needs to be available for it. If you cannot find it for the desired track, MAKEIT.\n",
    "\n",
    "Currently supported tracks:"
   ]
  },
  {
   "cell_type": "code",
   "execution_count": null,
   "metadata": {},
   "outputs": [],
   "source": [
    "la.track_breakdown.keys()"
   ]
  },
  {
   "cell_type": "markdown",
   "metadata": {},
   "source": [
    "The second parameter is either a single index or a list of indices for df iterations that you would like to view. You can for instance use `sorted_idx` list which is a sorted list of iterations from the highest to lowest reward.\n",
    "\n",
    "Bear in mind that you will have to provide a proper action naming in parameter `action_names`, this function assumes only six actions by default. I think they need to match numbering of actions in your model's metadata json file."
   ]
  },
  {
   "cell_type": "code",
   "execution_count": null,
   "metadata": {
    "scrolled": false
   },
   "outputs": [],
   "source": [
    "la.action_breakdown(df, 20, la.track_breakdown['reinvent2018'], l_center_line, l_inner_border, l_outer_border)"
   ]
  },
  {
   "cell_type": "code",
   "execution_count": null,
   "metadata": {},
   "outputs": [],
   "source": []
  },
  {
   "cell_type": "code",
   "execution_count": null,
   "metadata": {},
   "outputs": [],
   "source": []
  }
 ],
 "metadata": {
  "kernelspec": {
   "display_name": "Python 3",
   "language": "python",
   "name": "python3"
  },
  "language_info": {
   "codemirror_mode": {
    "name": "ipython",
    "version": 3
   },
   "file_extension": ".py",
   "mimetype": "text/x-python",
   "name": "python",
   "nbconvert_exporter": "python",
   "pygments_lexer": "ipython3",
   "version": "3.7.2"
  }
 },
 "nbformat": 4,
 "nbformat_minor": 2
}
